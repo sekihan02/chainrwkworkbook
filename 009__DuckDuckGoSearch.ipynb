{
 "cells": [
  {
   "cell_type": "code",
   "execution_count": 1,
   "id": "6f4ade81-4df8-4ff5-8f0b-abcd78d35180",
   "metadata": {},
   "outputs": [
    {
     "name": "stdout",
     "output_type": "stream",
     "text": [
      "Python 3.10.6\n"
     ]
    }
   ],
   "source": [
    "!python3 --version"
   ]
  },
  {
   "cell_type": "code",
   "execution_count": 2,
   "id": "e1a21819-6ef7-48a2-8e47-500c7999dc32",
   "metadata": {
    "scrolled": true,
    "tags": []
   },
   "outputs": [
    {
     "name": "stdout",
     "output_type": "stream",
     "text": [
      "Collecting langchain==0.0.152\n",
      "  Using cached langchain-0.0.152-py3-none-any.whl (666 kB)\n",
      "Requirement already satisfied: PyYAML>=5.4.1 in /usr/local/lib/python3.10/dist-packages (from langchain==0.0.152) (6.0)\n",
      "Requirement already satisfied: SQLAlchemy<3,>1.3 in /usr/local/lib/python3.10/dist-packages (from langchain==0.0.152) (1.4.48)\n",
      "Requirement already satisfied: aiohttp<4.0.0,>=3.8.3 in /usr/local/lib/python3.10/dist-packages (from langchain==0.0.152) (3.8.4)\n",
      "Requirement already satisfied: async-timeout<5.0.0,>=4.0.0 in /usr/local/lib/python3.10/dist-packages (from langchain==0.0.152) (4.0.2)\n",
      "Requirement already satisfied: dataclasses-json<0.6.0,>=0.5.7 in /usr/local/lib/python3.10/dist-packages (from langchain==0.0.152) (0.5.7)\n",
      "Requirement already satisfied: numexpr<3.0.0,>=2.8.4 in /usr/local/lib/python3.10/dist-packages (from langchain==0.0.152) (2.8.4)\n",
      "Requirement already satisfied: numpy<2,>=1 in /usr/local/lib/python3.10/dist-packages (from langchain==0.0.152) (1.24.3)\n",
      "Requirement already satisfied: openapi-schema-pydantic<2.0,>=1.2 in /usr/local/lib/python3.10/dist-packages (from langchain==0.0.152) (1.2.4)\n",
      "Requirement already satisfied: pydantic<2,>=1 in /usr/local/lib/python3.10/dist-packages (from langchain==0.0.152) (1.10.7)\n",
      "Requirement already satisfied: requests<3,>=2 in /usr/local/lib/python3.10/dist-packages (from langchain==0.0.152) (2.31.0)\n",
      "Requirement already satisfied: tenacity<9.0.0,>=8.1.0 in /usr/local/lib/python3.10/dist-packages (from langchain==0.0.152) (8.2.2)\n",
      "Requirement already satisfied: tqdm>=4.48.0 in /usr/local/lib/python3.10/dist-packages (from langchain==0.0.152) (4.65.0)\n",
      "Requirement already satisfied: attrs>=17.3.0 in /usr/local/lib/python3.10/dist-packages (from aiohttp<4.0.0,>=3.8.3->langchain==0.0.152) (23.1.0)\n",
      "Requirement already satisfied: charset-normalizer<4.0,>=2.0 in /usr/local/lib/python3.10/dist-packages (from aiohttp<4.0.0,>=3.8.3->langchain==0.0.152) (3.1.0)\n",
      "Requirement already satisfied: multidict<7.0,>=4.5 in /usr/local/lib/python3.10/dist-packages (from aiohttp<4.0.0,>=3.8.3->langchain==0.0.152) (6.0.4)\n",
      "Requirement already satisfied: yarl<2.0,>=1.0 in /usr/local/lib/python3.10/dist-packages (from aiohttp<4.0.0,>=3.8.3->langchain==0.0.152) (1.9.2)\n",
      "Requirement already satisfied: frozenlist>=1.1.1 in /usr/local/lib/python3.10/dist-packages (from aiohttp<4.0.0,>=3.8.3->langchain==0.0.152) (1.3.3)\n",
      "Requirement already satisfied: aiosignal>=1.1.2 in /usr/local/lib/python3.10/dist-packages (from aiohttp<4.0.0,>=3.8.3->langchain==0.0.152) (1.3.1)\n",
      "Requirement already satisfied: marshmallow<4.0.0,>=3.3.0 in /usr/local/lib/python3.10/dist-packages (from dataclasses-json<0.6.0,>=0.5.7->langchain==0.0.152) (3.19.0)\n",
      "Requirement already satisfied: marshmallow-enum<2.0.0,>=1.5.1 in /usr/local/lib/python3.10/dist-packages (from dataclasses-json<0.6.0,>=0.5.7->langchain==0.0.152) (1.5.1)\n",
      "Requirement already satisfied: typing-inspect>=0.4.0 in /usr/local/lib/python3.10/dist-packages (from dataclasses-json<0.6.0,>=0.5.7->langchain==0.0.152) (0.9.0)\n",
      "Requirement already satisfied: typing-extensions>=4.2.0 in /usr/local/lib/python3.10/dist-packages (from pydantic<2,>=1->langchain==0.0.152) (4.5.0)\n",
      "Requirement already satisfied: idna<4,>=2.5 in /usr/local/lib/python3.10/dist-packages (from requests<3,>=2->langchain==0.0.152) (3.4)\n",
      "Requirement already satisfied: urllib3<3,>=1.21.1 in /usr/local/lib/python3.10/dist-packages (from requests<3,>=2->langchain==0.0.152) (2.0.2)\n",
      "Requirement already satisfied: certifi>=2017.4.17 in /usr/local/lib/python3.10/dist-packages (from requests<3,>=2->langchain==0.0.152) (2023.5.7)\n",
      "Requirement already satisfied: greenlet!=0.4.17 in /usr/local/lib/python3.10/dist-packages (from SQLAlchemy<3,>1.3->langchain==0.0.152) (2.0.2)\n",
      "Requirement already satisfied: packaging>=17.0 in /usr/local/lib/python3.10/dist-packages (from marshmallow<4.0.0,>=3.3.0->dataclasses-json<0.6.0,>=0.5.7->langchain==0.0.152) (23.1)\n",
      "Requirement already satisfied: mypy-extensions>=0.3.0 in /usr/local/lib/python3.10/dist-packages (from typing-inspect>=0.4.0->dataclasses-json<0.6.0,>=0.5.7->langchain==0.0.152) (1.0.0)\n",
      "Installing collected packages: langchain\n",
      "Successfully installed langchain-0.0.152\n",
      "\u001b[33mWARNING: Running pip as the 'root' user can result in broken permissions and conflicting behaviour with the system package manager. It is recommended to use a virtual environment instead: https://pip.pypa.io/warnings/venv\u001b[0m\u001b[33m\n",
      "\u001b[0mRequirement already satisfied: duckduckgo-search in /usr/local/lib/python3.10/dist-packages (3.4.1)\n",
      "Requirement already satisfied: click>=8.1.3 in /usr/local/lib/python3.10/dist-packages (from duckduckgo-search) (8.1.3)\n",
      "Requirement already satisfied: lxml>=4.9.2 in /usr/local/lib/python3.10/dist-packages (from duckduckgo-search) (4.9.2)\n",
      "Requirement already satisfied: requests>=2.31.0 in /usr/local/lib/python3.10/dist-packages (from duckduckgo-search) (2.31.0)\n",
      "Requirement already satisfied: charset-normalizer<4,>=2 in /usr/local/lib/python3.10/dist-packages (from requests>=2.31.0->duckduckgo-search) (3.1.0)\n",
      "Requirement already satisfied: idna<4,>=2.5 in /usr/local/lib/python3.10/dist-packages (from requests>=2.31.0->duckduckgo-search) (3.4)\n",
      "Requirement already satisfied: urllib3<3,>=1.21.1 in /usr/local/lib/python3.10/dist-packages (from requests>=2.31.0->duckduckgo-search) (2.0.2)\n",
      "Requirement already satisfied: certifi>=2017.4.17 in /usr/local/lib/python3.10/dist-packages (from requests>=2.31.0->duckduckgo-search) (2023.5.7)\n",
      "\u001b[33mWARNING: Running pip as the 'root' user can result in broken permissions and conflicting behaviour with the system package manager. It is recommended to use a virtual environment instead: https://pip.pypa.io/warnings/venv\u001b[0m\u001b[33m\n",
      "\u001b[0m"
     ]
    }
   ],
   "source": [
    "!pip install langchain==0.0.152\n",
    "# !pip install langchain==0.0.177\n",
    "!pip install duckduckgo-search"
   ]
  },
  {
   "cell_type": "code",
   "execution_count": 7,
   "id": "2def384c-0ef5-4425-ab5a-94ac06a48f8b",
   "metadata": {},
   "outputs": [
    {
     "data": {
      "text/plain": [
       "'八王子城(八王子市)の見どころや構造、歴史や雑学、さらに地図などのアクセス情報を写真つきで詳しくご紹介します。八王子城はお城として八王子市で2位、東京都で3位の観光名所です。八王子城は北条氏康の三男である氏照によって築城されました。築城の際には、織田信長の安土城を参考 ... 八王子城は戦国時代の終わり頃に北条氏輝が築いた城で、八王子城跡には北条氏輝および家臣の墓、御主殿跡、大手門跡などがあり山城の歴史を辿ることができます。今回は急峻な山の地形を利用して築城された八王子城跡の見どころをご紹介します。 八王子城 歴史・沿革 北条氏康の三男・氏照が1571年（元亀2年）頃より築城し、1587年（天正15年）頃に本拠とした。ただし、近年の研究では古文書などの分析により、元亀段階には小規模な城砦みたいなものが存在した... 八王子城は小田原北条氏の支城としては最大級の規模を誇った関東地方屈指の山城だ。1590年、豊臣秀吉の軍勢によって激戦の末に落城したことが ... 八王子城の歴史について掲示され、ゲーム感覚で八王子城の特徴を学習できる設備や、直接手で触れることができる八王子城の小模型やスタンプ台がある。園路を進んだ先には屋根付の大きな八王子城の模型があり、詳細な説明板が付属している。'"
      ]
     },
     "execution_count": 7,
     "metadata": {},
     "output_type": "execute_result"
    }
   ],
   "source": [
    "from langchain.tools import DuckDuckGoSearchRun\n",
    "\n",
    "search = DuckDuckGoSearchRun()\n",
    "search.run(\"八王子城の歴史\")"
   ]
  },
  {
   "cell_type": "code",
   "execution_count": 8,
   "id": "bd37d4e8-429e-44c0-8792-5293c769c5fb",
   "metadata": {},
   "outputs": [
    {
     "data": {
      "text/plain": [
       "'八王子城(八王子市)の見どころや構造、歴史や雑学、さらに地図などのアクセス情報を写真つきで詳しくご紹介します。八王子城はお城として八王子市で2位、東京都で3位の観光名所です。八王子城は北条氏康の三男である氏照によって築城されました。築城の際には、織田信長の安土城を参考 ... 八王子城は小田原北条氏の支城としては最大級の規模を誇った関東地方屈指の山城だ。1590年、豊臣秀吉の軍勢によって激戦の末に落城したことが ... 浄福寺城(八王子市)の見どころや構造、歴史や雑学、さらに地図などのアクセス情報を写真つきで詳しくご紹介します。浄福寺城は別名、新城、案下城、松竹城、千手山城と呼ばれています。浄福寺城はお城として八王子市で3位、東京都で5位の観光名所です。浄福寺城は 大石信重 によって築か ... 滝山城(八王子市)の見どころや構造、歴史や雑学、さらに地図などのアクセス情報を写真つきで詳しくご紹介します。滝山城は別名、武蔵滝山城と呼ばれています。滝山城はお城として八王子市で1位、東京都で2位の観光名所です。滝山城は 北条氏康 の三男・ 北条氏照 の居城として知られて ... 由木城(八王子市)の見どころや構造、歴史や雑学、さらに地図などのアクセス情報を写真つきで詳しくご紹介します。由木城は別名、柚木城、由木氏館、大石氏館と呼ばれています。由木城はお城として八王子市で3位、東京都で5位の観光名所です。由木城は関東管領・山内上杉氏の重臣であっ ...'"
      ]
     },
     "execution_count": 8,
     "metadata": {},
     "output_type": "execute_result"
    }
   ],
   "source": [
    "search.run(\"八王子城\")"
   ]
  },
  {
   "cell_type": "code",
   "execution_count": 9,
   "id": "2d385038-1a67-43e9-aca1-2557c8f228ca",
   "metadata": {},
   "outputs": [
    {
     "data": {
      "text/plain": [
       "'八王子城は小田原北条氏の支城としては最大級の規模を誇った関東地方屈指の山城だ。1590年、豊臣秀吉の軍勢によって激戦の末に落城したことが ... 八王子城の城郭図は 江戸時代の初期（1648年）に描かれた「慶安の古図」や 西尾市岩瀬文庫所蔵の絵図と旧広島藩主浅野家に伝えられた城絵図集「諸国古城之図」や 鳥羽藩が兵学研究用に収集して保管していた「 日本古城 後北条氏が関東の覇者となった時代、八王子城はそれまでの滝山城からより防備を固めるため、北条氏康の子・氏照によって天正年間に築城された山城である。名前の由来は八王子権現を祀ったことによる。 氏照は当初、大石氏の由井城、後に滝山城に拠っていたが、小田原攻撃に向かう甲斐国（現在の山梨県）の武田信玄軍に攻められた際、(廿里古戦場、三増峠の戦い)に滝山城の防衛の限界を感じて本拠を八王子城に移した。 八王子城跡 御主殿 曳橋 冠木門 北条氏輝が築いた戦国時代の山城を訪ねる. 八王子城は戦国時代の終わり頃に北条氏輝が築いた城で、八王子城跡には北条氏輝および家臣の墓、御主殿跡、大手門跡などがあり山城の歴史を辿ることができます。. 今回 ...'"
      ]
     },
     "execution_count": 9,
     "metadata": {},
     "output_type": "execute_result"
    }
   ],
   "source": [
    "search.run(\"明治時代 八王子城\")"
   ]
  },
  {
   "cell_type": "code",
   "execution_count": 10,
   "id": "006cc9b3-aae7-4e1e-8447-cb64eee8c544",
   "metadata": {},
   "outputs": [
    {
     "data": {
      "text/plain": [
       "'金石城はお城として対馬市で1位、長崎県で1位の観光名所です。 金石城は対馬藩藩主である宗氏の居城で、対馬藩の政庁として機能していました。 もともとこの地には1528年（享禄元年）に宗将盛によって築かれた金石屋形があり、それを朝鮮通信使を ... 撃方山城(対馬市)の見どころや構造、歴史や雑学、さらに地図などのアクセス情報を写真つきで詳しくご紹介します。撃方山城はお城として対馬市で1位、長崎県で1位の観光名所です。撃方山城は 豊臣秀吉 が文禄・慶長の役の際に、対馬にいた軍監・ 毛利高政 に築かせた城です。 金田城は、長崎県に属する国境の島「対馬」にある古代山城です。 城の建物は残っておりませんが、1300年以上も前に築かれた石垣が今も一部当時のままで残っている価値ある遺跡です。 nhkの番組で日本最強の城のひとつといわれたこともある金田城。 対馬國一宮でもある。御挨拶しておかなくちゃ。 嚴原八幡宮神社(対馬國一宮) 長崎県対馬市厳原町中村645−1 Googleマップ. 清水山城跡 三ノ丸跡. 清水山城：文禄・慶長の役の際に豊臣秀吉の命で築かれた山城。 登山口がわからず苦しむ。 どこやねん、ココ。 テンプレートを表示. 対馬 （つしま）または対馬島（つしまとう、 英語: Tsushima Island ）は、 日本 の 九州 の北方の 玄界灘 にある、 長崎県 （ながさきけん）に属する 島 で、島全域が 対馬市 の1島1市体制である。. 面積は日本第10位で [5] 、島内人口は3万470 ...'"
      ]
     },
     "execution_count": 10,
     "metadata": {},
     "output_type": "execute_result"
    }
   ],
   "source": [
    "search.run(\"長崎　対馬　城\")"
   ]
  },
  {
   "cell_type": "code",
   "execution_count": 11,
   "id": "f2ebf103-0f30-43f4-869e-a607e0665158",
   "metadata": {},
   "outputs": [
    {
     "data": {
      "text/plain": [
       "'端末の購入店、通信会社、製造メーカーなどに相談することをおすすめします。モバイル通信に繋がらない場合 端末に原因があってモバイル通信に接続できない場合には以下の作業を行ってください。1.機内モードをON/OFFする 2.モバイル インターネットが繋がらない時にはどこかに原因があります。原因を特定して適切な対応をすることでインターネットに接続できるようになります。本記事ではインターネットが繋がらない時の原因の特定方法から対処方法まで解説しています。 TCP/IP 接続のトラブルシューティング方法と、ネットワーク キャプチャで TCP リセットに遭遇した場合の対応について説明します。 TCP/IP 接続に関する問題のトラブルシューティング - Windows Client | Microsoft Learn 本記事では、通信障害が起こる原因、通信障害への事前の対策、通信障害が起きたときの対応方法を紹介します。 通信障害が起こる前に対策や対応方法を確認しておきたいと考えている方も多いはずです。 1.エラーログを確認. エラーログが出ている場合、必ずエラーログを確認する癖をつけましょう。. エラーログにはエラーになった箇所などが記載されており、原因と場所の特定がしやすくなります。. エンジニアにとってエラーログを理解するのは ...'"
      ]
     },
     "execution_count": 11,
     "metadata": {},
     "output_type": "execute_result"
    }
   ],
   "source": [
    "search.run(\"通信エラー　対応方法\")"
   ]
  },
  {
   "cell_type": "code",
   "execution_count": 12,
   "id": "885fd605-7d2c-4f96-ad0d-247b4f6827d5",
   "metadata": {},
   "outputs": [
    {
     "data": {
      "text/plain": [
       "'auなど通信障害の教訓 \"もしも\"に備え 知っておきたい対策は. 2022年7月5日 16時02分. もはや日々の暮らしに欠かせない携帯電話がもしも突然 ... フレッツ光の通信障害が起きてしまった時の確認方法と、原因別の対処方法を紹介しました。 今記事のまとめです。 急にインターネットが繋がらなくなったら、まずは原因を確認します。 インターネットをはじめとした通信面に障害が発生した場合、ユーザー側で対応するのは難しくなります。そのため、ネットワーク障害は発生するものと想定し、事前に必要な対策を施すことが重要です。通信障害のリスクは、ここで紹介する3つ 2022年7月2日に発生したauの通信障害によって、数多くのユーザーがインターネットや電話を利用できない事態に陥りました。今後このような大規模な通信障害が発生したときに備え、私たちにはどのような対策ができるのでしょうか？ スマホがインターネットにつながらなくなると情報収集ができずに通信障害が発生しているかどうかもわからなくなります。本記事では通信障害が発生した時でもインターネットを利用できる方法を解説していきます。ぜひ参考にしてみてください。'"
      ]
     },
     "execution_count": 12,
     "metadata": {},
     "output_type": "execute_result"
    }
   ],
   "source": [
    "search.run(\"インターネット　対応障害　対応方法\")"
   ]
  },
  {
   "cell_type": "code",
   "execution_count": 14,
   "id": "fd899fc4-dbf3-48f4-b0d0-81471a8037dc",
   "metadata": {},
   "outputs": [
    {
     "data": {
      "text/plain": [
       "'フレッツ光で通信障害が発生した際の確認方法3つ フレッツ光回線を利用している際に『通信障害かもしれない』状況が発生したら、 まずは原因がどこにあるのかを突き止める必要があります。 そもそも、インターネットが突然繋がらなくなったからと言って必ずしも通信障害が起きていると ... 2 Downdetectorの使い方 2.1 ネットサービスの障害を報告する 2.2 ネットサービスの障害情報を確認する 3 Downdetectorを利用するときの注意点 3.1 ユーザーからの報告が情報源なので誤報の場合もある 3.2 正確な情報は公式からの お客さまがご契約のサービスへの影響についてはこちらで確認できます。複数のIDを入力することで、いずれかのIDに影響のある工事・故障情報を検索することが可能です。 ※契約IDを複数IDを入力する場合は、IDの後に、半角スペースを入力して下さい。 【2021年3月29日更新】ドコモ光が突然繋がらなくなった場合は通信障害が発生している可能性が高いです。まずはドコモの公式ページや電話で問い合わせをして、通信障害が起こっていないか確認をしてみましょう。また、ツイッターなどSNSでも障害情報が載っている場合もあるので調べてみて ... 光回線を使っていても通信速度が遅く感じたり、インターネット接続に不安定さを感じたりすることがあります。ここでは、光回線でも通信制限にかかるのか、通信遅延の原因には何があるのかについて解説します。今すぐできる対策や通信遅延を改善する方法もご紹介しているので、通信速度 ...'"
      ]
     },
     "execution_count": 14,
     "metadata": {},
     "output_type": "execute_result"
    }
   ],
   "source": [
    "search.run(\"インターネット　通信障害　調査方法\")"
   ]
  },
  {
   "cell_type": "code",
   "execution_count": null,
   "id": "14fc327e-2bdc-4c3f-8342-8ab9f55c8276",
   "metadata": {},
   "outputs": [],
   "source": []
  }
 ],
 "metadata": {
  "kernelspec": {
   "display_name": "Python 3 (ipykernel)",
   "language": "python",
   "name": "python3"
  },
  "language_info": {
   "codemirror_mode": {
    "name": "ipython",
    "version": 3
   },
   "file_extension": ".py",
   "mimetype": "text/x-python",
   "name": "python",
   "nbconvert_exporter": "python",
   "pygments_lexer": "ipython3",
   "version": "3.10.6"
  }
 },
 "nbformat": 4,
 "nbformat_minor": 5
}
