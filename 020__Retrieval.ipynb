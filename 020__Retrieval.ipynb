{
 "cells": [
  {
   "cell_type": "code",
   "execution_count": 1,
   "id": "b074356e-b92a-47bf-9c9d-ecaf57cc7637",
   "metadata": {},
   "outputs": [
    {
     "name": "stdout",
     "output_type": "stream",
     "text": [
      "Requirement already satisfied: pip in /usr/local/lib/python3.10/dist-packages (23.3.1)\n",
      "\u001b[33mWARNING: Running pip as the 'root' user can result in broken permissions and conflicting behaviour with the system package manager. It is recommended to use a virtual environment instead: https://pip.pypa.io/warnings/venv\u001b[0m\u001b[33m\n",
      "\u001b[0m"
     ]
    }
   ],
   "source": [
    "!python3 -m pip install --upgrade pip"
   ]
  },
  {
   "cell_type": "code",
   "execution_count": 2,
   "id": "5ae6bb99-6e24-4e2b-83a7-45d9ccbb334e",
   "metadata": {},
   "outputs": [
    {
     "name": "stdout",
     "output_type": "stream",
     "text": [
      "Requirement already satisfied: openai==1.2.4 in /usr/local/lib/python3.10/dist-packages (1.2.4)\n",
      "Requirement already satisfied: anyio<4,>=3.5.0 in /usr/local/lib/python3.10/dist-packages (from openai==1.2.4) (3.7.1)\n",
      "Requirement already satisfied: distro<2,>=1.7.0 in /usr/lib/python3/dist-packages (from openai==1.2.4) (1.7.0)\n",
      "Requirement already satisfied: httpx<1,>=0.23.0 in /usr/local/lib/python3.10/dist-packages (from openai==1.2.4) (0.25.1)\n",
      "Requirement already satisfied: pydantic<3,>=1.9.0 in /usr/local/lib/python3.10/dist-packages (from openai==1.2.4) (1.10.13)\n",
      "Requirement already satisfied: tqdm>4 in /usr/local/lib/python3.10/dist-packages (from openai==1.2.4) (4.66.1)\n",
      "Requirement already satisfied: typing-extensions<5,>=4.5 in /usr/local/lib/python3.10/dist-packages (from openai==1.2.4) (4.8.0)\n",
      "Requirement already satisfied: idna>=2.8 in /usr/local/lib/python3.10/dist-packages (from anyio<4,>=3.5.0->openai==1.2.4) (3.4)\n",
      "Requirement already satisfied: sniffio>=1.1 in /usr/local/lib/python3.10/dist-packages (from anyio<4,>=3.5.0->openai==1.2.4) (1.3.0)\n",
      "Requirement already satisfied: exceptiongroup in /usr/local/lib/python3.10/dist-packages (from anyio<4,>=3.5.0->openai==1.2.4) (1.1.3)\n",
      "Requirement already satisfied: certifi in /usr/local/lib/python3.10/dist-packages (from httpx<1,>=0.23.0->openai==1.2.4) (2022.12.7)\n",
      "Requirement already satisfied: httpcore in /usr/local/lib/python3.10/dist-packages (from httpx<1,>=0.23.0->openai==1.2.4) (1.0.2)\n",
      "Requirement already satisfied: h11<0.15,>=0.13 in /usr/local/lib/python3.10/dist-packages (from httpcore->httpx<1,>=0.23.0->openai==1.2.4) (0.14.0)\n",
      "\u001b[33mWARNING: Running pip as the 'root' user can result in broken permissions and conflicting behaviour with the system package manager. It is recommended to use a virtual environment instead: https://pip.pypa.io/warnings/venv\u001b[0m\u001b[33m\n",
      "\u001b[0m"
     ]
    }
   ],
   "source": [
    "# !pip install openai==0.27.8\n",
    "!pip install openai==1.2.4"
   ]
  },
  {
   "cell_type": "code",
   "execution_count": 3,
   "id": "26a8b4c4-320a-4f69-9eda-2587fbbdf459",
   "metadata": {},
   "outputs": [
    {
     "name": "stdout",
     "output_type": "stream",
     "text": [
      "Requirement already satisfied: python-dotenv in /usr/local/lib/python3.10/dist-packages (1.0.0)\n",
      "Requirement already satisfied: tiktoken in /usr/local/lib/python3.10/dist-packages (0.5.1)\n",
      "Requirement already satisfied: regex>=2022.1.18 in /usr/local/lib/python3.10/dist-packages (from tiktoken) (2023.10.3)\n",
      "Requirement already satisfied: requests>=2.26.0 in /usr/local/lib/python3.10/dist-packages (from tiktoken) (2.31.0)\n",
      "Requirement already satisfied: charset-normalizer<4,>=2 in /usr/local/lib/python3.10/dist-packages (from requests>=2.26.0->tiktoken) (2.1.1)\n",
      "Requirement already satisfied: idna<4,>=2.5 in /usr/local/lib/python3.10/dist-packages (from requests>=2.26.0->tiktoken) (3.4)\n",
      "Requirement already satisfied: urllib3<3,>=1.21.1 in /usr/local/lib/python3.10/dist-packages (from requests>=2.26.0->tiktoken) (1.26.13)\n",
      "Requirement already satisfied: certifi>=2017.4.17 in /usr/local/lib/python3.10/dist-packages (from requests>=2.26.0->tiktoken) (2022.12.7)\n",
      "\u001b[33mWARNING: Running pip as the 'root' user can result in broken permissions and conflicting behaviour with the system package manager. It is recommended to use a virtual environment instead: https://pip.pypa.io/warnings/venv\u001b[0m\u001b[33m\n",
      "\u001b[0m"
     ]
    }
   ],
   "source": [
    "!pip install python-dotenv tiktoken"
   ]
  },
  {
   "cell_type": "code",
   "execution_count": 4,
   "id": "503a91c9-8c53-4073-b7c6-c829a922c439",
   "metadata": {},
   "outputs": [
    {
     "name": "stdout",
     "output_type": "stream",
     "text": [
      "Requirement already satisfied: pdfplumber in /usr/local/lib/python3.10/dist-packages (0.10.3)\n",
      "Requirement already satisfied: pdfminer.six==20221105 in /usr/local/lib/python3.10/dist-packages (from pdfplumber) (20221105)\n",
      "Requirement already satisfied: Pillow>=9.1 in /usr/local/lib/python3.10/dist-packages (from pdfplumber) (9.3.0)\n",
      "Requirement already satisfied: pypdfium2>=4.18.0 in /usr/local/lib/python3.10/dist-packages (from pdfplumber) (4.24.0)\n",
      "Requirement already satisfied: charset-normalizer>=2.0.0 in /usr/local/lib/python3.10/dist-packages (from pdfminer.six==20221105->pdfplumber) (2.1.1)\n",
      "Requirement already satisfied: cryptography>=36.0.0 in /usr/local/lib/python3.10/dist-packages (from pdfminer.six==20221105->pdfplumber) (41.0.5)\n",
      "Requirement already satisfied: cffi>=1.12 in /usr/local/lib/python3.10/dist-packages (from cryptography>=36.0.0->pdfminer.six==20221105->pdfplumber) (1.16.0)\n",
      "Requirement already satisfied: pycparser in /usr/local/lib/python3.10/dist-packages (from cffi>=1.12->cryptography>=36.0.0->pdfminer.six==20221105->pdfplumber) (2.21)\n",
      "\u001b[33mWARNING: Running pip as the 'root' user can result in broken permissions and conflicting behaviour with the system package manager. It is recommended to use a virtual environment instead: https://pip.pypa.io/warnings/venv\u001b[0m\u001b[33m\n",
      "\u001b[0m"
     ]
    }
   ],
   "source": [
    "!pip install pdfplumber"
   ]
  },
  {
   "cell_type": "code",
   "execution_count": 5,
   "id": "398370af-aa58-4bbb-bcfc-070bcc9e5898",
   "metadata": {},
   "outputs": [],
   "source": [
    "import openai\n",
    "import pdfplumber\n",
    "from openai import OpenAI\n",
    "import tiktoken\n",
    "from dotenv import load_dotenv\n",
    "import os\n",
    "load_dotenv()\n",
    "openai.api_key = os.getenv(\"OPENAI_API_KEY\")"
   ]
  },
  {
   "cell_type": "code",
   "execution_count": 6,
   "id": "93b9e92f-310f-4d70-ad1c-a73f894a6353",
   "metadata": {},
   "outputs": [],
   "source": [
    "client = OpenAI()"
   ]
  },
  {
   "cell_type": "code",
   "execution_count": 7,
   "id": "3437e73b-71e1-43c9-8f1c-5d30f3ca9a76",
   "metadata": {},
   "outputs": [],
   "source": [
    "# ファイルをOpenAIのサーバにアップロード\n",
    "file = client.files.create(\n",
    "    file=open(\"./data/栄養・食生活.pdf\", \"rb\"),\n",
    "    purpose=\"assistants\"\n",
    ")"
   ]
  },
  {
   "cell_type": "code",
   "execution_count": 8,
   "id": "51a0fc6a-a98b-4406-a752-8fda4f3fb379",
   "metadata": {},
   "outputs": [
    {
     "data": {
      "text/plain": [
       "FileObject(id='file-BtI9w6zbfcK3qN5nwyrvz05c', bytes=543611, created_at=1700315515, filename='栄養・食生活.pdf', object='file', purpose='assistants', status='processed', status_details=None)"
      ]
     },
     "execution_count": 8,
     "metadata": {},
     "output_type": "execute_result"
    }
   ],
   "source": [
    "file"
   ]
  },
  {
   "cell_type": "markdown",
   "id": "9000f55f-4bfb-485f-b884-3aa5f06ee551",
   "metadata": {},
   "source": [
    "- Refarence: [Supprorted files](https://platform.openai.com/docs/assistants/tools/supported-files)"
   ]
  },
  {
   "cell_type": "code",
   "execution_count": 9,
   "id": "11b2361e-6c6d-46d0-8e46-3518698e2fe1",
   "metadata": {},
   "outputs": [],
   "source": [
    "# アシスタントの作成\n",
    "assistant = client.beta.assistants.create(\n",
    "    instructions=\"あなたはQAチャットボットです。 ナレッジベースを使用して、ユーザーの質問に最大限に対応します。\",\n",
    "    model=\"gpt-4-1106-preview\",\n",
    "    tools=[{\"type\": \"retrieval\"}],\n",
    "    file_ids=[file.id]\n",
    ")"
   ]
  },
  {
   "cell_type": "code",
   "execution_count": 10,
   "id": "1daaba6b-5003-46d5-b242-0432e9dd1946",
   "metadata": {},
   "outputs": [],
   "source": [
    "# 会話するためスレッドの準備\n",
    "thread = client.beta.threads.create()"
   ]
  },
  {
   "cell_type": "code",
   "execution_count": 11,
   "id": "db81dcbf-7bfa-4fb2-9e1c-af34bf4d482b",
   "metadata": {},
   "outputs": [],
   "source": [
    "# ユーザーメッセージの追加\n",
    "message = client.beta.threads.messages.create(\n",
    "    thread_id=thread.id,\n",
    "    role=\"user\",\n",
    "    content=\"毎日の必要なカルシウムの摂取量は？\"\n",
    ")"
   ]
  },
  {
   "cell_type": "code",
   "execution_count": 12,
   "id": "c5cc0002-efe3-4a43-90dd-e7bed09057cd",
   "metadata": {},
   "outputs": [
    {
     "name": "stdout",
     "output_type": "stream",
     "text": [
      "user : 毎日の必要なカルシウムの摂取量は？\n"
     ]
    }
   ],
   "source": [
    "# スレッドのメッセージリストの確認\n",
    "messages = client.beta.threads.messages.list(\n",
    "    thread_id=thread.id,\n",
    "    order=\"asc\"\n",
    ")\n",
    "\n",
    "for message in messages:\n",
    "    print(message.role, \":\", message.content[0].text.value)"
   ]
  },
  {
   "cell_type": "code",
   "execution_count": 13,
   "id": "24390d92-92e2-42fb-8dca-03e6aec604cd",
   "metadata": {},
   "outputs": [
    {
     "data": {
      "text/plain": [
       "SyncCursorPage[ThreadMessage](data=[ThreadMessage(id='msg_6cB5Y726vAYhthkFXeNA4o2t', assistant_id=None, content=[MessageContentText(text=Text(annotations=[], value='毎日の必要なカルシウムの摂取量は？'), type='text')], created_at=1700315518, file_ids=[], metadata={}, object='thread.message', role='user', run_id=None, thread_id='thread_iOBhMeAub146O9Ntwgy5oMA7')], object='list', first_id='msg_6cB5Y726vAYhthkFXeNA4o2t', last_id='msg_6cB5Y726vAYhthkFXeNA4o2t', has_more=False)"
      ]
     },
     "execution_count": 13,
     "metadata": {},
     "output_type": "execute_result"
    }
   ],
   "source": [
    "messages"
   ]
  },
  {
   "cell_type": "code",
   "execution_count": 25,
   "id": "2ff86977-4caf-4c85-80a3-acdfbf495ac0",
   "metadata": {},
   "outputs": [],
   "source": [
    "# アシスタントにリクエスト\n",
    "run = client.beta.threads.runs.create(\n",
    "    thread_id=thread.id,\n",
    "    assistant_id=assistant.id,\n",
    ")"
   ]
  },
  {
   "cell_type": "code",
   "execution_count": 26,
   "id": "a6a457ef-5a6a-4eb2-907a-5b200db10c8e",
   "metadata": {},
   "outputs": [
    {
     "name": "stdout",
     "output_type": "stream",
     "text": [
      "in_progress\n"
     ]
    }
   ],
   "source": [
    "# 実行状況の確認\n",
    "run = client.beta.threads.runs.retrieve(\n",
    "    thread_id=thread.id,\n",
    "    run_id=run.id\n",
    ")\n",
    "print(run.status)"
   ]
  },
  {
   "cell_type": "code",
   "execution_count": 27,
   "id": "c5a5dc0c-4a56-4eb3-95a7-74f2c854b68a",
   "metadata": {},
   "outputs": [
    {
     "name": "stdout",
     "output_type": "stream",
     "text": [
      "user : 毎日の必要なカルシウムの摂取量は？\n",
      "assistant : 毎日の必要なカルシウムの摂取量について、成人で600～700mgの摂取量が必要とされています。現在の資料では、確定的な情報を引用することが技術的な問題によりできませんが、提供された資料によれば、成人の平均摂取量は571mgであり、目標値の範囲には若干足らない状況であると指摘されています。\n"
     ]
    }
   ],
   "source": [
    "# スレッドのメッセージリストの確認\n",
    "messages = client.beta.threads.messages.list(\n",
    "    thread_id=thread.id,\n",
    "    order=\"asc\"\n",
    ")\n",
    "for message in messages:\n",
    "    print(message.role, \":\", message.content[0].text.value)"
   ]
  },
  {
   "cell_type": "code",
   "execution_count": 28,
   "id": "c9e4623a-aa20-4b5d-b67c-332f603ecfc0",
   "metadata": {},
   "outputs": [],
   "source": [
    "# メッセージのannotationsの抽出\n",
    "message_content = message.content[0].text\n",
    "annotations = message_content.annotations\n",
    "citations = []\n",
    "\n",
    "# 注釈の追加\n",
    "for index, annotation in enumerate(annotations):\n",
    "    message_content.value = message_content.value.replace(annotation.text, f' [{index}]')\n",
    "\n",
    "    if (file_citation := getattr(annotation, 'file_citation', None)):\n",
    "        cited_file = client.files.retrieve(file_citation.file_id)\n",
    "        citations.append(f'[{index}] {file_citation.quote} from {cited_file.filename}')\n",
    "    elif (file_path := getattr(annotation, 'file_path', None)):\n",
    "        cited_file = client.files.retrieve(file_path.file_id)\n",
    "        citations.append(f'[{index}] Click <here> to download {cited_file.filename}')\n",
    "        # 注: 簡潔にするため、ファイルのダウンロードは上記では実装していません\n",
    "\n",
    "# ユーザーに表示する前にメッセージの末尾に脚注を追加\n",
    "message_content.value += '\\n' + '\\n'.join(citations)"
   ]
  },
  {
   "cell_type": "code",
   "execution_count": 29,
   "id": "26f4be65-70da-44c8-9160-f379688ec6f4",
   "metadata": {},
   "outputs": [
    {
     "data": {
      "text/plain": [
       "Text(annotations=[], value='毎日の必要なカルシウムの摂取量について、成人で600～700mgの摂取量が必要とされています。現在の資料では、確定的な情報を引用することが技術的な問題によりできませんが、提供された資料によれば、成人の平均摂取量は571mgであり、目標値の範囲には若干足らない状況であると指摘されています。\\n')"
      ]
     },
     "execution_count": 29,
     "metadata": {},
     "output_type": "execute_result"
    }
   ],
   "source": [
    "message_content"
   ]
  },
  {
   "cell_type": "code",
   "execution_count": 30,
   "id": "47ced276-6933-4efb-9997-821cd290723d",
   "metadata": {},
   "outputs": [
    {
     "data": {
      "text/plain": [
       "SyncCursorPage[ThreadMessage](data=[ThreadMessage(id='msg_6cB5Y726vAYhthkFXeNA4o2t', assistant_id=None, content=[MessageContentText(text=Text(annotations=[], value='毎日の必要なカルシウムの摂取量は？'), type='text')], created_at=1700315518, file_ids=[], metadata={}, object='thread.message', role='user', run_id=None, thread_id='thread_iOBhMeAub146O9Ntwgy5oMA7'), ThreadMessage(id='msg_7CakLCcJsgR7zQY4kiahplHE', assistant_id='asst_X0o8YNTTDmf33OOxLHvHrids', content=[MessageContentText(text=Text(annotations=[], value='毎日の必要なカルシウムの摂取量について、成人で600～700mgの摂取量が必要とされています。現在の資料では、確定的な情報を引用することが技術的な問題によりできませんが、提供された資料によれば、成人の平均摂取量は571mgであり、目標値の範囲には若干足らない状況であると指摘されています。\\n'), type='text')], created_at=1700315528, file_ids=[], metadata={}, object='thread.message', role='assistant', run_id='run_afjAEklFlGGPl7gqyITCmbCE', thread_id='thread_iOBhMeAub146O9Ntwgy5oMA7')], object='list', first_id='msg_6cB5Y726vAYhthkFXeNA4o2t', last_id='msg_7CakLCcJsgR7zQY4kiahplHE', has_more=False)"
      ]
     },
     "execution_count": 30,
     "metadata": {},
     "output_type": "execute_result"
    }
   ],
   "source": [
    "messages"
   ]
  },
  {
   "cell_type": "code",
   "execution_count": 31,
   "id": "cf25839c-336e-4368-85ab-90be107405d5",
   "metadata": {},
   "outputs": [
    {
     "name": "stdout",
     "output_type": "stream",
     "text": [
      "in_progress\n",
      "user : 毎日の必要なカルシウムの摂取量は？\n",
      "assistant : 毎日の必要なカルシウムの摂取量について、成人で600～700mgの摂取量が必要とされています。現在の資料では、確定的な情報を引用することが技術的な問題によりできませんが、提供された資料によれば、成人の平均摂取量は571mgであり、目標値の範囲には若干足らない状況であると指摘されています。\n",
      "assistant : I apologize for the confusion. There was an error in extracting the exact quote from the document. The necessary daily intake of calcium for adults is stated to be between 600–700 mg. However, the average intake for adults is reported to be 571 mg, which suggests that there is room for improvement to meet the recommended intake levels. Please note that these figures can vary based on individual health requirements, life stage, and dietary guidelines in different countries or regions. Always consult with a healthcare professional for personalized advice.\n",
      "user : 今日の天気は？\n",
      "assistant : \n"
     ]
    }
   ],
   "source": [
    "# ユーザーメッセージの追加\n",
    "message = client.beta.threads.messages.create(\n",
    "    thread_id=thread.id,\n",
    "    role=\"user\",\n",
    "    content=\"今日の天気は？\"\n",
    ")\n",
    "\n",
    "# スレッドのメッセージリストの確認\n",
    "messages = client.beta.threads.messages.list(\n",
    "    thread_id=thread.id,\n",
    "    order=\"asc\"\n",
    ")\n",
    "\n",
    "# アシスタントにリクエスト\n",
    "run = client.beta.threads.runs.create(\n",
    "    thread_id=thread.id,\n",
    "    assistant_id=assistant.id,\n",
    ")\n",
    "\n",
    "# 実行状況の確認\n",
    "run = client.beta.threads.runs.retrieve(\n",
    "    thread_id=thread.id,\n",
    "    run_id=run.id\n",
    ")\n",
    "print(run.status)\n",
    "\n",
    "# スレッドのメッセージリストの確認\n",
    "messages = client.beta.threads.messages.list(\n",
    "    thread_id=thread.id,\n",
    "    order=\"asc\"\n",
    ")\n",
    "\n",
    "for message in messages:\n",
    "    print(message.role, \":\", message.content[0].text.value)"
   ]
  },
  {
   "cell_type": "code",
   "execution_count": null,
   "id": "8f3eecac-a5d7-4723-ae9c-e4d80408ca2f",
   "metadata": {},
   "outputs": [],
   "source": []
  }
 ],
 "metadata": {
  "kernelspec": {
   "display_name": "Python 3 (ipykernel)",
   "language": "python",
   "name": "python3"
  },
  "language_info": {
   "codemirror_mode": {
    "name": "ipython",
    "version": 3
   },
   "file_extension": ".py",
   "mimetype": "text/x-python",
   "name": "python",
   "nbconvert_exporter": "python",
   "pygments_lexer": "ipython3",
   "version": "3.10.12"
  }
 },
 "nbformat": 4,
 "nbformat_minor": 5
}
