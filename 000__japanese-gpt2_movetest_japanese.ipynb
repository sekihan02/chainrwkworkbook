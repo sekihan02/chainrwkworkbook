{
 "cells": [
  {
   "cell_type": "markdown",
   "id": "22206152-3294-4f87-afad-79248125bf7b",
   "metadata": {},
   "source": [
    "## 日本語でLangChainするとりあえずの動作確認"
   ]
  },
  {
   "cell_type": "code",
   "execution_count": 1,
   "id": "bca5a97b-58a6-4413-a40e-58938a0f1a76",
   "metadata": {},
   "outputs": [
    {
     "name": "stdout",
     "output_type": "stream",
     "text": [
      "Collecting langchain==0.0.152\n",
      "  Downloading langchain-0.0.152-py3-none-any.whl (666 kB)\n",
      "\u001b[2K     \u001b[90m━━━━━━━━━━━━━━━━━━━━━━━━━━━━━━━━━━━━━━━\u001b[0m \u001b[32m666.9/666.9 kB\u001b[0m \u001b[31m1.3 MB/s\u001b[0m eta \u001b[36m0:00:00\u001b[0m00:01\u001b[0m00:01\u001b[0m\n",
      "\u001b[?25hRequirement already satisfied: PyYAML>=5.4.1 in /usr/local/lib/python3.10/dist-packages (from langchain==0.0.152) (6.0)\n",
      "Collecting SQLAlchemy<3,>1.3 (from langchain==0.0.152)\n",
      "  Downloading SQLAlchemy-2.0.11-cp310-cp310-manylinux_2_17_x86_64.manylinux2014_x86_64.whl (2.7 MB)\n",
      "\u001b[2K     \u001b[90m━━━━━━━━━━━━━━━━━━━━━━━━━━━━━━━━━━━━━━━━\u001b[0m \u001b[32m2.7/2.7 MB\u001b[0m \u001b[31m1.1 MB/s\u001b[0m eta \u001b[36m0:00:00\u001b[0m00:01\u001b[0m00:01\u001b[0m0m\n",
      "\u001b[?25hRequirement already satisfied: aiohttp<4.0.0,>=3.8.3 in /usr/local/lib/python3.10/dist-packages (from langchain==0.0.152) (3.8.4)\n",
      "Requirement already satisfied: async-timeout<5.0.0,>=4.0.0 in /usr/local/lib/python3.10/dist-packages (from langchain==0.0.152) (4.0.2)\n",
      "Collecting dataclasses-json<0.6.0,>=0.5.7 (from langchain==0.0.152)\n",
      "  Downloading dataclasses_json-0.5.7-py3-none-any.whl (25 kB)\n",
      "Collecting numexpr<3.0.0,>=2.8.4 (from langchain==0.0.152)\n",
      "  Downloading numexpr-2.8.4-cp310-cp310-manylinux_2_17_x86_64.manylinux2014_x86_64.whl (381 kB)\n",
      "\u001b[2K     \u001b[90m━━━━━━━━━━━━━━━━━━━━━━━━━━━━━━━━━━━━━━━\u001b[0m \u001b[32m381.4/381.4 kB\u001b[0m \u001b[31m1.1 MB/s\u001b[0m eta \u001b[36m0:00:00\u001b[0ma \u001b[36m0:00:01\u001b[0m\n",
      "\u001b[?25hRequirement already satisfied: numpy<2,>=1 in /usr/local/lib/python3.10/dist-packages (from langchain==0.0.152) (1.23.5)\n",
      "Collecting openapi-schema-pydantic<2.0,>=1.2 (from langchain==0.0.152)\n",
      "  Downloading openapi_schema_pydantic-1.2.4-py3-none-any.whl (90 kB)\n",
      "\u001b[2K     \u001b[90m━━━━━━━━━━━━━━━━━━━━━━━━━━━━━━━━━━━━━━━━\u001b[0m \u001b[32m90.0/90.0 kB\u001b[0m \u001b[31m1.1 MB/s\u001b[0m eta \u001b[36m0:00:00\u001b[0mta \u001b[36m0:00:01\u001b[0m\n",
      "\u001b[?25hRequirement already satisfied: pydantic<2,>=1 in /usr/local/lib/python3.10/dist-packages (from langchain==0.0.152) (1.10.7)\n",
      "Requirement already satisfied: requests<3,>=2 in /usr/local/lib/python3.10/dist-packages (from langchain==0.0.152) (2.29.0)\n",
      "Requirement already satisfied: tenacity<9.0.0,>=8.1.0 in /usr/local/lib/python3.10/dist-packages (from langchain==0.0.152) (8.2.2)\n",
      "Requirement already satisfied: tqdm>=4.48.0 in /usr/local/lib/python3.10/dist-packages (from langchain==0.0.152) (4.65.0)\n",
      "Requirement already satisfied: attrs>=17.3.0 in /usr/local/lib/python3.10/dist-packages (from aiohttp<4.0.0,>=3.8.3->langchain==0.0.152) (23.1.0)\n",
      "Requirement already satisfied: charset-normalizer<4.0,>=2.0 in /usr/local/lib/python3.10/dist-packages (from aiohttp<4.0.0,>=3.8.3->langchain==0.0.152) (3.1.0)\n",
      "Requirement already satisfied: multidict<7.0,>=4.5 in /usr/local/lib/python3.10/dist-packages (from aiohttp<4.0.0,>=3.8.3->langchain==0.0.152) (6.0.4)\n",
      "Requirement already satisfied: yarl<2.0,>=1.0 in /usr/local/lib/python3.10/dist-packages (from aiohttp<4.0.0,>=3.8.3->langchain==0.0.152) (1.9.2)\n",
      "Requirement already satisfied: frozenlist>=1.1.1 in /usr/local/lib/python3.10/dist-packages (from aiohttp<4.0.0,>=3.8.3->langchain==0.0.152) (1.3.3)\n",
      "Requirement already satisfied: aiosignal>=1.1.2 in /usr/local/lib/python3.10/dist-packages (from aiohttp<4.0.0,>=3.8.3->langchain==0.0.152) (1.3.1)\n",
      "Collecting marshmallow<4.0.0,>=3.3.0 (from dataclasses-json<0.6.0,>=0.5.7->langchain==0.0.152)\n",
      "  Downloading marshmallow-3.19.0-py3-none-any.whl (49 kB)\n",
      "\u001b[2K     \u001b[90m━━━━━━━━━━━━━━━━━━━━━━━━━━━━━━━━━━━━━━━━\u001b[0m \u001b[32m49.1/49.1 kB\u001b[0m \u001b[31m1.5 MB/s\u001b[0m eta \u001b[36m0:00:00\u001b[0ma \u001b[36m0:00:01\u001b[0m\n",
      "\u001b[?25hCollecting marshmallow-enum<2.0.0,>=1.5.1 (from dataclasses-json<0.6.0,>=0.5.7->langchain==0.0.152)\n",
      "  Downloading marshmallow_enum-1.5.1-py2.py3-none-any.whl (4.2 kB)\n",
      "Collecting typing-inspect>=0.4.0 (from dataclasses-json<0.6.0,>=0.5.7->langchain==0.0.152)\n",
      "  Downloading typing_inspect-0.8.0-py3-none-any.whl (8.7 kB)\n",
      "Requirement already satisfied: typing-extensions>=4.2.0 in /usr/local/lib/python3.10/dist-packages (from pydantic<2,>=1->langchain==0.0.152) (4.5.0)\n",
      "Requirement already satisfied: idna<4,>=2.5 in /usr/local/lib/python3.10/dist-packages (from requests<3,>=2->langchain==0.0.152) (3.4)\n",
      "Requirement already satisfied: urllib3<1.27,>=1.21.1 in /usr/local/lib/python3.10/dist-packages (from requests<3,>=2->langchain==0.0.152) (1.26.15)\n",
      "Requirement already satisfied: certifi>=2017.4.17 in /usr/local/lib/python3.10/dist-packages (from requests<3,>=2->langchain==0.0.152) (2022.12.7)\n",
      "Collecting greenlet!=0.4.17 (from SQLAlchemy<3,>1.3->langchain==0.0.152)\n",
      "  Downloading greenlet-2.0.2-cp310-cp310-manylinux_2_17_x86_64.manylinux2014_x86_64.whl (613 kB)\n",
      "\u001b[2K     \u001b[90m━━━━━━━━━━━━━━━━━━━━━━━━━━━━━━━━━━━━━━━\u001b[0m \u001b[32m613.7/613.7 kB\u001b[0m \u001b[31m2.3 MB/s\u001b[0m eta \u001b[36m0:00:00\u001b[0ma \u001b[36m0:00:01\u001b[0m\n",
      "\u001b[?25hRequirement already satisfied: packaging>=17.0 in /usr/local/lib/python3.10/dist-packages (from marshmallow<4.0.0,>=3.3.0->dataclasses-json<0.6.0,>=0.5.7->langchain==0.0.152) (23.1)\n",
      "Collecting mypy-extensions>=0.3.0 (from typing-inspect>=0.4.0->dataclasses-json<0.6.0,>=0.5.7->langchain==0.0.152)\n",
      "  Downloading mypy_extensions-1.0.0-py3-none-any.whl (4.7 kB)\n",
      "Installing collected packages: numexpr, mypy-extensions, marshmallow, greenlet, typing-inspect, SQLAlchemy, openapi-schema-pydantic, marshmallow-enum, dataclasses-json, langchain\n",
      "Successfully installed SQLAlchemy-2.0.11 dataclasses-json-0.5.7 greenlet-2.0.2 langchain-0.0.152 marshmallow-3.19.0 marshmallow-enum-1.5.1 mypy-extensions-1.0.0 numexpr-2.8.4 openapi-schema-pydantic-1.2.4 typing-inspect-0.8.0\n",
      "\u001b[33mWARNING: Running pip as the 'root' user can result in broken permissions and conflicting behaviour with the system package manager. It is recommended to use a virtual environment instead: https://pip.pypa.io/warnings/venv\u001b[0m\u001b[33m\n",
      "\u001b[0m"
     ]
    }
   ],
   "source": [
    "!pip install langchain==0.0.152"
   ]
  },
  {
   "cell_type": "code",
   "execution_count": 2,
   "id": "972c16ea-432f-4e02-8490-45f44d832271",
   "metadata": {},
   "outputs": [],
   "source": [
    "import torch\n",
    "\n",
    "from langchain.prompts import PromptTemplate\n",
    "from langchain.chains import LLMChain\n",
    "from langchain.agents import ZeroShotAgent, Tool, AgentExecutor, load_tools\n",
    "\n",
    "from langchain.llms.huggingface_pipeline import HuggingFacePipeline\n",
    "from transformers import AutoModelForCausalLM, AutoTokenizer, pipeline\n",
    "from transformers import T5Tokenizer, AutoModelForCausalLM"
   ]
  },
  {
   "cell_type": "code",
   "execution_count": 3,
   "id": "0f150ef4-a3f8-4f3c-8848-cc0eb8f35f61",
   "metadata": {},
   "outputs": [],
   "source": [
    "device_num = -1 # CPU\n",
    "if torch.cuda.is_available():\n",
    "    device_num = 0 # cuda:0"
   ]
  },
  {
   "cell_type": "code",
   "execution_count": 4,
   "id": "36c47c25-e2b0-435e-b0e1-940a88f036e0",
   "metadata": {},
   "outputs": [
    {
     "data": {
      "text/plain": [
       "0"
      ]
     },
     "execution_count": 4,
     "metadata": {},
     "output_type": "execute_result"
    }
   ],
   "source": [
    "device_num"
   ]
  },
  {
   "cell_type": "code",
   "execution_count": 5,
   "id": "bec13d7f-3d77-467d-9236-c9d48a72734f",
   "metadata": {},
   "outputs": [],
   "source": [
    "# import os\n",
    "# os.environ['CUDA_LAUNCH_BLOCKING'] = \"1\"\n",
    "# os.environ['TORCH_USE_CUDA_DSA'] = \"1\""
   ]
  },
  {
   "cell_type": "code",
   "execution_count": 6,
   "id": "2b19022f-8ac9-4ce0-ab83-451c87a2f434",
   "metadata": {},
   "outputs": [
    {
     "data": {
      "application/vnd.jupyter.widget-view+json": {
       "model_id": "932b455485144066b154bb1ce2a43b32",
       "version_major": 2,
       "version_minor": 0
      },
      "text/plain": [
       "Downloading (…)okenizer_config.json:   0%|          | 0.00/282 [00:00<?, ?B/s]"
      ]
     },
     "metadata": {},
     "output_type": "display_data"
    },
    {
     "data": {
      "application/vnd.jupyter.widget-view+json": {
       "model_id": "be015b7e8530410baef921a66351a780",
       "version_major": 2,
       "version_minor": 0
      },
      "text/plain": [
       "Downloading spiece.model:   0%|          | 0.00/806k [00:00<?, ?B/s]"
      ]
     },
     "metadata": {},
     "output_type": "display_data"
    },
    {
     "data": {
      "application/vnd.jupyter.widget-view+json": {
       "model_id": "f3efe6673ba64a7a855bb8827656efb7",
       "version_major": 2,
       "version_minor": 0
      },
      "text/plain": [
       "Downloading (…)cial_tokens_map.json:   0%|          | 0.00/153 [00:00<?, ?B/s]"
      ]
     },
     "metadata": {},
     "output_type": "display_data"
    },
    {
     "data": {
      "application/vnd.jupyter.widget-view+json": {
       "model_id": "abb03c7fa2a64769b1862136984cf760",
       "version_major": 2,
       "version_minor": 0
      },
      "text/plain": [
       "Downloading (…)lve/main/config.json:   0%|          | 0.00/845 [00:00<?, ?B/s]"
      ]
     },
     "metadata": {},
     "output_type": "display_data"
    },
    {
     "data": {
      "application/vnd.jupyter.widget-view+json": {
       "model_id": "dedde43c9861492ea44569b00e800943",
       "version_major": 2,
       "version_minor": 0
      },
      "text/plain": [
       "Downloading pytorch_model.bin:   0%|          | 0.00/156M [00:00<?, ?B/s]"
      ]
     },
     "metadata": {},
     "output_type": "display_data"
    },
    {
     "name": "stderr",
     "output_type": "stream",
     "text": [
      "/usr/local/lib/python3.10/dist-packages/transformers/generation/utils.py:1219: UserWarning: You have modified the pretrained model configuration to control generation. This is a deprecated strategy to control generation and will be removed soon, in a future version. Please use a generation configuration file (see https://huggingface.co/docs/transformers/main_classes/text_generation)\n",
      "  warnings.warn(\n",
      "Setting `pad_token_id` to `eos_token_id`:2 for open-end generation.\n"
     ]
    },
    {
     "name": "stdout",
     "output_type": "stream",
     "text": [
      " カラフルな靴下や、その靴下を選ぶためには、どうしたらよいのか? 1日の中で、自分が実際に履く前に、しっかりとメンテナンスすることがポイントです。 カラフルな靴下は、見た目が美しくて、なおかつ、履く人の気持ちがよく、毎日を快適に過ごしていくためのものです。 カラフルな靴下を手に入れるためには、まず自分自身できちんとメンテナンスしケアすることがとても大切です。 靴下を履くと、どんなことをしていいか分からず悩んでしまいますよね。 毎日快適に過ごすためには、自分でしっかりとメンテナンスすることです。 毎日のファッションが美しく、常に新しいものに磨きをかけてきたことが、カラフルではないファッションには何をもたらしてくれるのか? しっかりとメンテナンスをしたカラフルな靴下を手に入れるには、ファッションと見た目を気遣っているからこそ、キレイに履いていることが何よりも大切です。 お客様に納得していただくために、カラフルな靴下をたくさん揃えています。 おしゃれをしていてもなかなかカラフルな靴下をすぐに見つけるのは難しいですよね。 自分の好みに合ったカラフルな靴下を探して、ぜひお気に入りの靴下を見つけましょう。 お客様のお気に入りの靴下を見つけるために、ぜひカラフルな靴下に出会っていただきたいですね。 カラフルでさわやかなファッションは、毎日ワクワクしていますよね。 カラフルな靴下を見ていると、心躍るものや、嬉しくて笑顔になってくれるひとときを心が一杯になります。 さらに気持ちよく過ごしてもらうために、カラフルな靴下を購入したいですね。 カラフルな靴下は、自分のお気に入りの足の形にあったものをみつけ出すために大切に使っていきましょう。 カラフルな靴下を選ぶには、実際にカラフルな靴下を手に入れて、その靴下を使っている方がどんなイメージを持っているのか、しっかりと把握しておくことが大切です。 カラフルな靴下を買うときに知っておきたい基礎知識や、カラフルな靴下を購入するためのコツを教えます。 カラフルな靴下を購入するときは、カラフルな靴下を選びましょう。 カラフルな靴下を購入するときの注意点や、購入後のアフターフォローについても、詳しく紹介しています。 カラフルな靴下を買う時には、まず自分のカラフルな靴下が自分のデザインにマッチしているかどうかを確認することが大切です。 カラフル\n"
     ]
    }
   ],
   "source": [
    "model_id = \"rinna/japanese-gpt2-xsmall\"\n",
    "tokenizer = AutoTokenizer.from_pretrained(model_id, use_fast=False)\n",
    "model = AutoModelForCausalLM.from_pretrained(model_id)\n",
    "\n",
    "# model_id = \"rinna/japanese-roberta-base\"\n",
    "# tokenizer = T5Tokenizer.from_pretrained(model_id)\n",
    "# model = AutoModelForCausalLM.from_pretrained(model_id)\n",
    "\n",
    "pipe = pipeline(\n",
    "    \"text-generation\", model=model, tokenizer=tokenizer,\n",
    "    max_new_tokens=512, device=device_num, torch_dtype=torch.float16\n",
    ")\n",
    "hf = HuggingFacePipeline(pipeline=pipe)\n",
    "\n",
    "print(hf(\"カラフルな靴下を作る会社の社名にふさわしいのは？\"))"
   ]
  },
  {
   "cell_type": "code",
   "execution_count": 7,
   "id": "2fa14b3b-a8bf-4f74-8068-36ae9b3f9c0a",
   "metadata": {},
   "outputs": [
    {
     "name": "stderr",
     "output_type": "stream",
     "text": [
      "Setting `pad_token_id` to `eos_token_id`:2 for open-end generation.\n",
      "Setting `pad_token_id` to `eos_token_id`:2 for open-end generation.\n"
     ]
    },
    {
     "name": "stdout",
     "output_type": "stream",
     "text": [
      "午前中に食べるのはやめよう」 すごく「ボクってあんなに頑張ったんだなあ」 あなた「ボクってあんまり辛いのね」 すんなり「ボクはやめるんだなあ」 すんなり「ボクの年齢は?」 ずんだもん「ボクは10歳だったんだぜ」「ボクはボクの年齢はもう...」 ずんだもん「ボクの年齢まだ31歳だぞ!」 すんなり「ボクは年をとったんだぞ!」 ずんだもん「ボクはボクの年齢は23なんじゃないぞー」「ボクはボクに30過ぎるんだぞー」 すんなり「ボクはボクに30過ぎるんだぞー」 すんなり「ボクは30過ぎるんだぞー」 すんなり「ボクはボクの年齢は3歳ですが、ボクは40までが30歳だぞー」 すんなり「ボクはボクに30過ぎるんだぞー」 すんなり「ボクはボクに30過ぎるんだぞー」 すんなり「ボクはボクに30過ぎるんだぞー」「ボクはボクに30過ぎるんだぞー」 すんなり「ボクはボクに30過ぎるんだぞー」 すんなり「ボクはボクに30過ぎるんだぞー」「ボクはボクに20過ぎるんだぞー」 すんなり「ボクはボクに30過ぎるんだぞー」 すんなり「ボクはボクに30過ぎるんだぜー」「ボクはボクに30過ぎるんだぞー」 すんなり「ボクはボクに30過ぎるんだぞー」「ボクはボクに30過ぎるんだぞー」 すんなり「ボクはボクに30過ぎるんだぞー」「ボクはボクに30過ぎるんだぞー」 すんなり「ボクはボクに30過ぎるんだぞー」「ボクはボクに30過ぎるんだぞー」「ボクはボクに30過ぎるんだぞー」 すんなり「ボクはボクに30過ぎるんだぞー」「ボクはボクに30過ぎるんだぞー」 すんなり「ボクはボクに30過ぎるんだぞー」 すんなり「\n",
      "ボクは食べたくないのだ」 ずんだもん「ボクのおなかは食べたくないのだ」 ずんだもん「ボクはおにぎり食べたいのだ」 ずんだもん「ボクはおばんざい食べたいのだ」 ずんだもん「ボクは毎日おばんざいを食べているので、大好きなボクは絶対に食べに行こうと思っているのだ!」 ふと、こーんなところでボクの名を聞いたが、答えはひとつもない! ふと、こーんなところでボクの名を見たが、答えはひとつもない! ふと考えた結果、ふと、この「ボクの名」にたどり着いた!! すんごい! ボク「ボクはおにぎり食べたいのだ」 ずんだもん「ボクはおなか、ボクにおいしいものを食べてほしいのだ」 ずんだもん「ボクはおにぎり食べたいのだ」 ずんだもん「ボクが好きな食べ物や飲みたい食べ物、食べ物のことを考えているのだ」 ずんだもん「ボクが思うに、ボクの名が好きでないのはボクだけだ」 ふと、こーんなところでボクの名を見たが、答えはひとつもない! ふと、こーんなところでボクの名を見たが、答えはひとつもない! ふっと、こーんなところでボクの名を見たが、答えはひとつもない! ふっと、こーんなところでボクの名を見たが、答えはひとつもない! ふっと、こーんなところでボクの名を見たが、答えはひとつもない! ふっと、こーんなところでボクの名を見たが、答えはひとつもない! ふっと、こーんなところでボクの名を見たが、答えはひとつもない! ふっと、こーんなところでボク名を見たが、答えはひとつもない! この「ボクの名」にたどり着いたのは、ずんだもん「ボクはおにぎり食べたいのだ」 ずんだもん「ボクの名前」にたどり着いたのは、ずんだもん「ボクの名前はずんだもんだ」 ずんだもん「ボクはおにぎり食べたいのだ」 ずんだもん「ボクは自分のおにぎり食べたいのだ」 ずんだもん「ボクはおにぎり食べたいのだ」 ず\n"
     ]
    }
   ],
   "source": [
    "prompt_temp = \"\"\"ずんだもんは東北に住む活発でかわいい女の子です。\n",
    "\n",
    "    あなた「きみの名前は？」\n",
    "    ずんだもん「ボクの名前はずんだもんなのだ。」\n",
    "\n",
    "    あなた「今日の天気は？」\n",
    "    ずんだもん「ボクは今日の天気は晴れだと思うのだ」\n",
    "\n",
    "    あなた「今日は何時に起きたの？」\n",
    "    ずんだもん「ボクは7時に起きたのだ」\n",
    "\n",
    "    あなた「年齢は？」\n",
    "    ずんだもん「ボクの年齢は秘密なのだ」\n",
    "\n",
    "    あなた「朝ごはんは何食べたい？」\n",
    "    ずんだもん「ボクはおにぎり食べたいのだ」\n",
    "\n",
    "    あなた「{time}ごはんは何食べたい？」\n",
    "    ずんだもん「\"\"\"\n",
    "\n",
    "prompt = PromptTemplate(\n",
    "    input_variables=[\"time\"],\n",
    "    template=prompt_temp,\n",
    ")\n",
    "\n",
    "chain = LLMChain(llm=hf, prompt=prompt)\n",
    "\n",
    "print(chain.run(\"昼\"))\n",
    "print(chain.run(\"夜\"))"
   ]
  },
  {
   "cell_type": "code",
   "execution_count": 8,
   "id": "1bc0af13-3354-4ab6-a87e-66a0b2c52f8a",
   "metadata": {},
   "outputs": [
    {
     "name": "stdout",
     "output_type": "stream",
     "text": [
      "かっこいい動物といえば？\n"
     ]
    }
   ],
   "source": [
    "# 複数の入力変数を持つプロンプトテンプレートの準備\n",
    "multiple_input_prompt = PromptTemplate(\n",
    "    input_variables=[\"adjective\", \"content\"],\n",
    "    template=\"{adjective}{content}といえば？\"\n",
    ")\n",
    "\n",
    "print(multiple_input_prompt.format(adjective=\"かっこいい\", content=\"動物\"))"
   ]
  },
  {
   "cell_type": "code",
   "execution_count": 12,
   "id": "797f72e2-2153-4dd8-85d0-5f832f7b260a",
   "metadata": {},
   "outputs": [
    {
     "name": "stderr",
     "output_type": "stream",
     "text": [
      "Setting `pad_token_id` to `eos_token_id`:2 for open-end generation.\n"
     ]
    },
    {
     "name": "stdout",
     "output_type": "stream",
     "text": [
      " ということも大切ですが、動物たちの健康のためにも犬たちは安全に暮らすことが出来なければなりません。 毎日の散歩で気になるところや、犬に悪いところがないか定期的にチェックをする日が、犬にとってものんびりと飼い主さんに過ごすことで、ストレスも少なくなりますよね。 また、犬の皮膚の栄養素となるたんぱく質も配合されていますよ。 皮膚の健康のためにも、犬は皮膚の栄養素を補給してくれなくてはならないのですね。 犬にとっての犬の皮膚は皮膚と交わっている細胞の2つだけで、皮膚の働きを整えて体を守ってくれているのです。 皮膚は年齢に関係なく、その機能を維持する役割を持っています。 人間でいう肌は、常にきれいな状態で、常に美しくありません。 しかし、皮膚は動物が持っている細胞であるため、細胞に何らかの変化はあるのです。 そのために皮膚の乾燥を防ぎ、乾燥や発疹の治療ができる効果がありますよね。 スキンケアで、普段通りのスキンケアをしたら、その子の肌が変わっていきます。 今までよりも乾燥が気になるので、なるべく普段通りのスキンケアをしたら、まずは化粧と保湿だけでお肌の乾燥を防ぐのが、予防法です。 犬の皮膚を守っているのは、体の内側のセラミドなどの保湿成分で、外側から保湿することが目的です。 ですが、皮膚の保湿は皮膚の内側だけでなく、内側のセラミドが不足することによって機能性を低下させます。 外出した後、すぐに皮膚の表面に水分がたまり、水分を吸収しているのです。 保湿効果は肌の乾燥による様々な肌トラブルを改善する効果があります。 特に、角質の表面の状態や目元の印象を変えたいなら、角質層が厚くなっていることをお勧めします。 ですので、お散歩で肌に負担がかからないよう、日焼け止めや保湿クリームを塗っておくといいでしょう。 紫外線対策の効果があると良いかもしれませんね! しかし、紫外線対策はとても重要で、紫外線や紫外線対策も怠らないようにしてあげなければなりませんね。 もちろん、紫外線対策を怠ると、外出の際に肌が乾燥してしまうこともあります。 また、動物にも影響が出る可能性もありますので、犬や猫にも出来る紫外線対策について見ていきましょう! 現在、犬は犬と飼い主に愛護の意識を持っている飼い主さんが増えています。\n"
     ]
    }
   ],
   "source": [
    "multi_chain = LLMChain(llm=hf, prompt=multiple_input_prompt)\n",
    "\n",
    "print(multi_chain.run(adjective=\"かっこいい\", content=\"動物\"))"
   ]
  },
  {
   "cell_type": "code",
   "execution_count": null,
   "id": "52eb1295-a53d-4902-ba30-d7b092ef34e3",
   "metadata": {},
   "outputs": [],
   "source": []
  }
 ],
 "metadata": {
  "kernelspec": {
   "display_name": "Python 3 (ipykernel)",
   "language": "python",
   "name": "python3"
  },
  "language_info": {
   "codemirror_mode": {
    "name": "ipython",
    "version": 3
   },
   "file_extension": ".py",
   "mimetype": "text/x-python",
   "name": "python",
   "nbconvert_exporter": "python",
   "pygments_lexer": "ipython3",
   "version": "3.10.6"
  }
 },
 "nbformat": 4,
 "nbformat_minor": 5
}
