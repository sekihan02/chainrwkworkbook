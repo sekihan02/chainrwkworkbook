{
 "cells": [
  {
   "cell_type": "markdown",
   "id": "814448ca-c502-4ee7-80ff-74b5e4628190",
   "metadata": {},
   "source": [
    "https://python.langchain.com/en/latest/modules/agents/toolkits/examples/pandas.html"
   ]
  },
  {
   "cell_type": "code",
   "execution_count": 1,
   "id": "9cb6f840-5559-40d9-80b6-2bcb4da2ec1e",
   "metadata": {},
   "outputs": [
    {
     "name": "stdout",
     "output_type": "stream",
     "text": [
      "Requirement already satisfied: rwkv in /usr/local/lib/python3.10/dist-packages (0.7.3)\n",
      "Requirement already satisfied: tokenizer in /usr/local/lib/python3.10/dist-packages (3.4.2)\n",
      "Requirement already satisfied: tokenizers>=0.13.2 in /usr/local/lib/python3.10/dist-packages (from rwkv) (0.13.3)\n",
      "\u001b[33mWARNING: Running pip as the 'root' user can result in broken permissions and conflicting behaviour with the system package manager. It is recommended to use a virtual environment instead: https://pip.pypa.io/warnings/venv\u001b[0m\u001b[33m\n",
      "\u001b[0m"
     ]
    }
   ],
   "source": [
    "!pip3 install rwkv tokenizer"
   ]
  },
  {
   "cell_type": "code",
   "execution_count": 2,
   "id": "3bf67272-c888-4b2b-9778-25f7add42390",
   "metadata": {},
   "outputs": [
    {
     "name": "stdout",
     "output_type": "stream",
     "text": [
      "Requirement already satisfied: langchain==0.0.152 in /usr/local/lib/python3.10/dist-packages (0.0.152)\n",
      "Requirement already satisfied: PyYAML>=5.4.1 in /usr/local/lib/python3.10/dist-packages (from langchain==0.0.152) (6.0)\n",
      "Requirement already satisfied: SQLAlchemy<3,>1.3 in /usr/local/lib/python3.10/dist-packages (from langchain==0.0.152) (2.0.12)\n",
      "Requirement already satisfied: aiohttp<4.0.0,>=3.8.3 in /usr/local/lib/python3.10/dist-packages (from langchain==0.0.152) (3.8.4)\n",
      "Requirement already satisfied: async-timeout<5.0.0,>=4.0.0 in /usr/local/lib/python3.10/dist-packages (from langchain==0.0.152) (4.0.2)\n",
      "Requirement already satisfied: dataclasses-json<0.6.0,>=0.5.7 in /usr/local/lib/python3.10/dist-packages (from langchain==0.0.152) (0.5.7)\n",
      "Requirement already satisfied: numexpr<3.0.0,>=2.8.4 in /usr/local/lib/python3.10/dist-packages (from langchain==0.0.152) (2.8.4)\n",
      "Requirement already satisfied: numpy<2,>=1 in /usr/local/lib/python3.10/dist-packages (from langchain==0.0.152) (1.23.5)\n",
      "Requirement already satisfied: openapi-schema-pydantic<2.0,>=1.2 in /usr/local/lib/python3.10/dist-packages (from langchain==0.0.152) (1.2.4)\n",
      "Requirement already satisfied: pydantic<2,>=1 in /usr/local/lib/python3.10/dist-packages (from langchain==0.0.152) (1.10.7)\n",
      "Requirement already satisfied: requests<3,>=2 in /usr/local/lib/python3.10/dist-packages (from langchain==0.0.152) (2.29.0)\n",
      "Requirement already satisfied: tenacity<9.0.0,>=8.1.0 in /usr/local/lib/python3.10/dist-packages (from langchain==0.0.152) (8.2.2)\n",
      "Requirement already satisfied: tqdm>=4.48.0 in /usr/local/lib/python3.10/dist-packages (from langchain==0.0.152) (4.65.0)\n",
      "Requirement already satisfied: attrs>=17.3.0 in /usr/local/lib/python3.10/dist-packages (from aiohttp<4.0.0,>=3.8.3->langchain==0.0.152) (23.1.0)\n",
      "Requirement already satisfied: charset-normalizer<4.0,>=2.0 in /usr/local/lib/python3.10/dist-packages (from aiohttp<4.0.0,>=3.8.3->langchain==0.0.152) (3.1.0)\n",
      "Requirement already satisfied: multidict<7.0,>=4.5 in /usr/local/lib/python3.10/dist-packages (from aiohttp<4.0.0,>=3.8.3->langchain==0.0.152) (6.0.4)\n",
      "Requirement already satisfied: yarl<2.0,>=1.0 in /usr/local/lib/python3.10/dist-packages (from aiohttp<4.0.0,>=3.8.3->langchain==0.0.152) (1.9.2)\n",
      "Requirement already satisfied: frozenlist>=1.1.1 in /usr/local/lib/python3.10/dist-packages (from aiohttp<4.0.0,>=3.8.3->langchain==0.0.152) (1.3.3)\n",
      "Requirement already satisfied: aiosignal>=1.1.2 in /usr/local/lib/python3.10/dist-packages (from aiohttp<4.0.0,>=3.8.3->langchain==0.0.152) (1.3.1)\n",
      "Requirement already satisfied: marshmallow<4.0.0,>=3.3.0 in /usr/local/lib/python3.10/dist-packages (from dataclasses-json<0.6.0,>=0.5.7->langchain==0.0.152) (3.19.0)\n",
      "Requirement already satisfied: marshmallow-enum<2.0.0,>=1.5.1 in /usr/local/lib/python3.10/dist-packages (from dataclasses-json<0.6.0,>=0.5.7->langchain==0.0.152) (1.5.1)\n",
      "Requirement already satisfied: typing-inspect>=0.4.0 in /usr/local/lib/python3.10/dist-packages (from dataclasses-json<0.6.0,>=0.5.7->langchain==0.0.152) (0.8.0)\n",
      "Requirement already satisfied: typing-extensions>=4.2.0 in /usr/local/lib/python3.10/dist-packages (from pydantic<2,>=1->langchain==0.0.152) (4.5.0)\n",
      "Requirement already satisfied: idna<4,>=2.5 in /usr/local/lib/python3.10/dist-packages (from requests<3,>=2->langchain==0.0.152) (3.4)\n",
      "Requirement already satisfied: urllib3<1.27,>=1.21.1 in /usr/local/lib/python3.10/dist-packages (from requests<3,>=2->langchain==0.0.152) (1.26.15)\n",
      "Requirement already satisfied: certifi>=2017.4.17 in /usr/local/lib/python3.10/dist-packages (from requests<3,>=2->langchain==0.0.152) (2022.12.7)\n",
      "Requirement already satisfied: greenlet!=0.4.17 in /usr/local/lib/python3.10/dist-packages (from SQLAlchemy<3,>1.3->langchain==0.0.152) (2.0.2)\n",
      "Requirement already satisfied: packaging>=17.0 in /usr/local/lib/python3.10/dist-packages (from marshmallow<4.0.0,>=3.3.0->dataclasses-json<0.6.0,>=0.5.7->langchain==0.0.152) (23.1)\n",
      "Requirement already satisfied: mypy-extensions>=0.3.0 in /usr/local/lib/python3.10/dist-packages (from typing-inspect>=0.4.0->dataclasses-json<0.6.0,>=0.5.7->langchain==0.0.152) (1.0.0)\n",
      "\u001b[33mWARNING: Running pip as the 'root' user can result in broken permissions and conflicting behaviour with the system package manager. It is recommended to use a virtual environment instead: https://pip.pypa.io/warnings/venv\u001b[0m\u001b[33m\n",
      "\u001b[0m"
     ]
    }
   ],
   "source": [
    "!pip install langchain==0.0.152"
   ]
  },
  {
   "cell_type": "code",
   "execution_count": 3,
   "id": "a48de78b-9e27-4c5f-8add-095ba4f768ab",
   "metadata": {},
   "outputs": [],
   "source": [
    "from contextlib import contextmanager\n",
    "from time import time\n",
    "\n",
    "class Timer:\n",
    "    \"\"\"処理時間を表示するクラス\n",
    "    with Timer(prefix=f'pred cv={i}'):\n",
    "        y_pred_i = predict(model, loader=test_loader)\n",
    "    \n",
    "    with Timer(prefix='fit fold={} '.format(i)):\n",
    "        clf.fit(x_train, y_train, \n",
    "                eval_set=[(x_valid, y_valid)],  \n",
    "                early_stopping_rounds=100,\n",
    "                verbose=verbose)\n",
    "\n",
    "    with Timer(prefix='fit fold={} '.format(i), verbose=500):\n",
    "        clf.fit(x_train, y_train, \n",
    "                eval_set=[(x_valid, y_valid)],  \n",
    "                early_stopping_rounds=100,\n",
    "                verbose=verbose)\n",
    "    \"\"\"\n",
    "    def __init__(self, logger=None, format_str='{:.3f}[s]', prefix=None, suffix=None, sep=' ', verbose=0):\n",
    "\n",
    "        if prefix: format_str = str(prefix) + sep + format_str\n",
    "        if suffix: format_str = format_str + sep + str(suffix)\n",
    "        self.format_str = format_str\n",
    "        self.logger = logger\n",
    "        self.start = None\n",
    "        self.end = None\n",
    "        self.verbose = verbose\n",
    "\n",
    "    @property\n",
    "    def duration(self):\n",
    "        if self.end is None:\n",
    "            return 0\n",
    "        return self.end - self.start\n",
    "\n",
    "    def __enter__(self):\n",
    "        self.start = time()\n",
    "\n",
    "    def __exit__(self, exc_type, exc_val, exc_tb):\n",
    "        self.end = time()\n",
    "        out_str = self.format_str.format(self.duration)\n",
    "        if self.logger:\n",
    "            self.logger.info(out_str)\n",
    "        else:\n",
    "            print(out_str)"
   ]
  },
  {
   "cell_type": "code",
   "execution_count": 4,
   "id": "c2237b18-6022-44e0-9b78-ec3f90ced803",
   "metadata": {},
   "outputs": [],
   "source": [
    "# model\n",
    "# !wget -P ./models https://huggingface.co/BlinkDL/rwkv-4-raven/resolve/main/RWKV-4-Raven-14B-v8-EngAndMore-20230408-ctx4096.pth"
   ]
  },
  {
   "cell_type": "code",
   "execution_count": 5,
   "id": "af892576-c1ed-459a-8975-f37ec99b8b54",
   "metadata": {},
   "outputs": [],
   "source": [
    "# !wget -P ./models https://huggingface.co/BlinkDL/rwkv-4-raven/resolve/main/RWKV-4-Raven-14B-v9-Eng99-20230412-ctx8192"
   ]
  },
  {
   "cell_type": "code",
   "execution_count": 6,
   "id": "32cc9df9-bca8-4e3f-8051-18a9bb06bf39",
   "metadata": {},
   "outputs": [],
   "source": [
    "# !wget -P ./tokenizer https://raw.githubusercontent.com/BlinkDL/ChatRWKV/main/20B_tokenizer.json"
   ]
  },
  {
   "cell_type": "code",
   "execution_count": 7,
   "id": "73478633-5db9-4def-9041-b50548a82ea5",
   "metadata": {},
   "outputs": [
    {
     "data": {
      "text/plain": [
       "257"
      ]
     },
     "execution_count": 7,
     "metadata": {},
     "output_type": "execute_result"
    }
   ],
   "source": [
    "import gc\n",
    "gc.collect()"
   ]
  },
  {
   "cell_type": "code",
   "execution_count": 8,
   "id": "f44a6ce3-3196-41ad-8ceb-e2688a2d4db8",
   "metadata": {},
   "outputs": [
    {
     "name": "stdout",
     "output_type": "stream",
     "text": [
      "RWKV_JIT_ON 1 RWKV_CUDA_ON 0 RESCALE_LAYER 6\n",
      "\n",
      "Loading ./models/RWKV-4-Raven-14B-v9-Eng99-20230412-ctx8192.pth ...\n",
      "Strategy: (total 40+1=41 layers)\n",
      "* cuda [float16, uint8], store 41 layers\n",
      "0-cuda-float16-uint8 1-cuda-float16-uint8 2-cuda-float16-uint8 3-cuda-float16-uint8 4-cuda-float16-uint8 5-cuda-float16-uint8 6-cuda-float16-uint8 7-cuda-float16-uint8 8-cuda-float16-uint8 9-cuda-float16-uint8 10-cuda-float16-uint8 11-cuda-float16-uint8 12-cuda-float16-uint8 13-cuda-float16-uint8 14-cuda-float16-uint8 15-cuda-float16-uint8 16-cuda-float16-uint8 17-cuda-float16-uint8 18-cuda-float16-uint8 19-cuda-float16-uint8 20-cuda-float16-uint8 21-cuda-float16-uint8 22-cuda-float16-uint8 23-cuda-float16-uint8 24-cuda-float16-uint8 25-cuda-float16-uint8 26-cuda-float16-uint8 27-cuda-float16-uint8 28-cuda-float16-uint8 29-cuda-float16-uint8 30-cuda-float16-uint8 31-cuda-float16-uint8 32-cuda-float16-uint8 33-cuda-float16-uint8 34-cuda-float16-uint8 35-cuda-float16-uint8 36-cuda-float16-uint8 37-cuda-float16-uint8 38-cuda-float16-uint8 39-cuda-float16-uint8 40-cuda-float16-uint8 \n",
      "emb.weight                        f16      cpu  50277  5120 \n",
      "blocks.0.ln1.weight               f16   cuda:0   5120       \n",
      "blocks.0.ln1.bias                 f16   cuda:0   5120       \n",
      "blocks.0.ln2.weight               f16   cuda:0   5120       \n",
      "blocks.0.ln2.bias                 f16   cuda:0   5120       \n",
      "blocks.0.att.time_decay           f32   cuda:0   5120       \n",
      "blocks.0.att.time_first           f32   cuda:0   5120       \n",
      "blocks.0.att.time_mix_k           f16   cuda:0   5120       \n",
      "blocks.0.att.time_mix_v           f16   cuda:0   5120       \n",
      "blocks.0.att.time_mix_r           f16   cuda:0   5120       \n",
      "blocks.0.att.key.weight            i8   cuda:0   5120  5120 \n",
      "blocks.0.att.value.weight          i8   cuda:0   5120  5120 \n",
      "blocks.0.att.receptance.weight     i8   cuda:0   5120  5120 \n",
      "blocks.0.att.output.weight         i8   cuda:0   5120  5120 \n",
      "blocks.0.ffn.time_mix_k           f16   cuda:0   5120       \n",
      "blocks.0.ffn.time_mix_r           f16   cuda:0   5120       \n",
      "blocks.0.ffn.key.weight            i8   cuda:0   5120 20480 \n",
      "blocks.0.ffn.receptance.weight     i8   cuda:0   5120  5120 \n",
      "blocks.0.ffn.value.weight          i8   cuda:0  20480  5120 \n",
      "............................................................................................................................................................................................................................................................................................................................................................................................................................................................................................................................................................................................................................................................................................................\n",
      "blocks.39.ln1.weight              f16   cuda:0   5120       \n",
      "blocks.39.ln1.bias                f16   cuda:0   5120       \n",
      "blocks.39.ln2.weight              f16   cuda:0   5120       \n",
      "blocks.39.ln2.bias                f16   cuda:0   5120       \n",
      "blocks.39.att.time_decay          f32   cuda:0   5120       \n",
      "blocks.39.att.time_first          f32   cuda:0   5120       \n",
      "blocks.39.att.time_mix_k          f16   cuda:0   5120       \n",
      "blocks.39.att.time_mix_v          f16   cuda:0   5120       \n",
      "blocks.39.att.time_mix_r          f16   cuda:0   5120       \n",
      "blocks.39.att.key.weight           i8   cuda:0   5120  5120 \n",
      "blocks.39.att.value.weight         i8   cuda:0   5120  5120 \n",
      "blocks.39.att.receptance.weight    i8   cuda:0   5120  5120 \n",
      "blocks.39.att.output.weight        i8   cuda:0   5120  5120 \n",
      "blocks.39.ffn.time_mix_k          f16   cuda:0   5120       \n",
      "blocks.39.ffn.time_mix_r          f16   cuda:0   5120       \n",
      "blocks.39.ffn.key.weight           i8   cuda:0   5120 20480 \n",
      "blocks.39.ffn.receptance.weight    i8   cuda:0   5120  5120 \n",
      "blocks.39.ffn.value.weight         i8   cuda:0  20480  5120 \n",
      "ln_out.weight                     f16   cuda:0   5120       \n",
      "ln_out.bias                       f16   cuda:0   5120       \n",
      "head.weight                        i8   cuda:0   5120 50277 \n",
      "make model: 141.933[s]\n"
     ]
    }
   ],
   "source": [
    "with Timer(prefix=f'make model:'):\n",
    "    import os\n",
    "    os.environ['RWKV_JIT_ON'] = '1'\n",
    "    os.environ[\"RWKV_CUDA_ON\"] = '0'\n",
    "    # os.environ[\"RWKV_CUDA_ON\"] = '1'\n",
    "\n",
    "    # from rwkv.model import RWKV\n",
    "    # from rwkv.utils import PIPELINE, PIPELINE_ARGS\n",
    "\n",
    "    from langchain.llms import RWKV\n",
    "    # LLMの準備\n",
    "    llm = RWKV(\n",
    "        model=\"./models/RWKV-4-Raven-14B-v9-Eng99-20230412-ctx8192.pth\", \n",
    "        # model=\"./models/RWKV-4-Raven-14B-v8-EngAndMore-20230408-ctx4096.pth\", \n",
    "        # strategy=\"cuda fp16\", \n",
    "        strategy=\"cuda fp16i8\",\n",
    "        # strategy=\"cpu fp32\", \n",
    "        tokens_path=\"./tokenizer/20B_tokenizer.json\",\n",
    "        temperature=1.0,\n",
    "    )"
   ]
  },
  {
   "cell_type": "markdown",
   "id": "0f7f5e88-6c81-46ae-b0a1-7406babe7ff8",
   "metadata": {},
   "source": [
    "- cache (Optional[bool]) : キャッシュを使用するかどうかを示すブール値\n",
    "- verbose (bool) : 詳細ログを表示するかどうかを示すブール値\n",
    "- callback_manager (langchain.callbacks.base.BaseCallbackManager) : コールバックマネージャー\n",
    "- model (str) : 学習済みモデルのファイルパス\n",
    "- tokens_path (str) : トークンファイルのパス\n",
    "- strategy (str) : ハードウェアストラテジー。\"cpu fp32\" など\n",
    "- rwkv_verbose (bool) : RWKVに関する詳細ログを表示するかどうかを示すブール値\n",
    "- temperature (float) : 生成の多様性を制御するための温度パラメーター\n",
    "- top_p (float) : 生成されたテキストのトップp制約\n",
    "- penalty_alpha_frequency (float) : 生成の周波数に対するペナルティの強度\n",
    "- penalty_alpha_presence (float) : 生成の存在に対するペナルティの強度\n",
    "- CHUNK_LEN (int) : 分割するテキストの最大長\n",
    "- max_tokens_per_generation (int) : 1回の生成で使用される最大トークン数\n",
    "- client (Any) : クライアントオブジェクト\n",
    "- tokenizer (Any) : トークナイザーオブジェクト\n",
    "- pipeline (Any) : パイプラインオブジェクト\n",
    "- model_tokens (Any) : 学習済みモデルのトークンリスト\n",
    "- model_state (Any) : 学習済みモデルの状態"
   ]
  },
  {
   "cell_type": "code",
   "execution_count": 9,
   "id": "d46acb2a-0a05-4463-8192-cf856b477cb7",
   "metadata": {},
   "outputs": [],
   "source": [
    "# Instructプロンプトの生成\n",
    "def generate_prompt(instruction, input=None):\n",
    "    if input:\n",
    "        return f\"\"\"Below is an instruction that describes a task, paired with an input that provides further context. Write a response that appropriately completes the request.\n",
    "\n",
    "# Instruction:\n",
    "{instruction}\n",
    "\n",
    "# Input:\n",
    "{input}\n",
    "\n",
    "# Response:\n",
    "\"\"\"\n",
    "    else:\n",
    "        return f\"\"\"Below is an instruction that describes a task. Write a response that appropriately completes the request.\n",
    "\n",
    "# Instruction:\n",
    "{instruction}\n",
    "\n",
    "# Response:\n",
    "\"\"\""
   ]
  },
  {
   "cell_type": "code",
   "execution_count": 10,
   "id": "e6cee1f8-0517-4755-8d7f-5e6cfd49312b",
   "metadata": {},
   "outputs": [],
   "source": [
    "# print(llm(generate_prompt(\"日本の首都は？\")))"
   ]
  },
  {
   "cell_type": "code",
   "execution_count": 11,
   "id": "b847f1fc-1a73-49c5-8525-fd58585843e3",
   "metadata": {},
   "outputs": [],
   "source": [
    "# text = llm(generate_prompt(\"日本の主要都市を箇条書きで7つ教えてください\"))\n",
    "\n",
    "# print(text)"
   ]
  },
  {
   "cell_type": "code",
   "execution_count": 12,
   "id": "898f82e2-4180-4e54-b04d-e22f8ce555fd",
   "metadata": {},
   "outputs": [],
   "source": [
    "import pandas as pd\n",
    "import numpy as np\n",
    "import random\n",
    "from datetime import datetime, timedelta\n",
    "\n",
    "# データ件数と異常値の数を設定\n",
    "data_size = 1000\n",
    "num_anomalies = 10\n",
    "\n",
    "# 日付インデックスを生成\n",
    "date_rng = pd.date_range(start='2021-01-01', end='2021-12-31', freq='S')\n",
    "date_rng = np.random.choice(date_rng, data_size, replace=False)\n",
    "date_rng.sort()\n",
    "\n",
    "# レスポンスタイムの正規分布に従ったランダムデータを生成\n",
    "response_time_data = np.random.normal(loc=200, scale=20, size=data_size)\n",
    "\n",
    "# ステータスコードのリストを作成\n",
    "status_codes = ['200', '201', '204', '400', '401', '403', '404', '500', '502', '503']\n",
    "status_code_probs = [0.6, 0.1, 0.05, 0.1, 0.02, 0.02, 0.08, 0.01, 0.01, 0.01]\n",
    "status_code_data = np.random.choice(status_codes, size=data_size, p=status_code_probs)\n",
    "\n",
    "# 異常値をランダムに挿入\n",
    "anomaly_indices = random.sample(range(data_size), num_anomalies)\n",
    "for idx in anomaly_indices:\n",
    "    response_time_data[idx] = np.random.normal(loc=1000, scale=100)\n",
    "    status_code_data[idx] = random.choice(['404', '500', '502', '503'])\n",
    "\n",
    "# データフレームを作成\n",
    "# df = pd.DataFrame(data={'response_time': response_time_data, 'status_code': status_code_data}, index=date_rng)\n",
    "df = pd.DataFrame(data={'date_time': date_rng, 'response_time': response_time_data, 'status_code': status_code_data})\n"
   ]
  },
  {
   "cell_type": "code",
   "execution_count": 13,
   "id": "cbf4cfad-0c2b-4ab4-8246-8b6acc89cdb7",
   "metadata": {},
   "outputs": [
    {
     "data": {
      "text/html": [
       "<div>\n",
       "<style scoped>\n",
       "    .dataframe tbody tr th:only-of-type {\n",
       "        vertical-align: middle;\n",
       "    }\n",
       "\n",
       "    .dataframe tbody tr th {\n",
       "        vertical-align: top;\n",
       "    }\n",
       "\n",
       "    .dataframe thead th {\n",
       "        text-align: right;\n",
       "    }\n",
       "</style>\n",
       "<table border=\"1\" class=\"dataframe\">\n",
       "  <thead>\n",
       "    <tr style=\"text-align: right;\">\n",
       "      <th></th>\n",
       "      <th>date_time</th>\n",
       "      <th>response_time</th>\n",
       "      <th>status_code</th>\n",
       "    </tr>\n",
       "  </thead>\n",
       "  <tbody>\n",
       "    <tr>\n",
       "      <th>0</th>\n",
       "      <td>2021-01-01 03:37:41</td>\n",
       "      <td>202.210236</td>\n",
       "      <td>204</td>\n",
       "    </tr>\n",
       "    <tr>\n",
       "      <th>1</th>\n",
       "      <td>2021-01-01 15:35:27</td>\n",
       "      <td>209.859186</td>\n",
       "      <td>500</td>\n",
       "    </tr>\n",
       "    <tr>\n",
       "      <th>2</th>\n",
       "      <td>2021-01-01 15:56:27</td>\n",
       "      <td>183.012084</td>\n",
       "      <td>204</td>\n",
       "    </tr>\n",
       "    <tr>\n",
       "      <th>3</th>\n",
       "      <td>2021-01-01 16:01:11</td>\n",
       "      <td>167.256547</td>\n",
       "      <td>200</td>\n",
       "    </tr>\n",
       "    <tr>\n",
       "      <th>4</th>\n",
       "      <td>2021-01-01 17:50:19</td>\n",
       "      <td>171.639320</td>\n",
       "      <td>200</td>\n",
       "    </tr>\n",
       "  </tbody>\n",
       "</table>\n",
       "</div>"
      ],
      "text/plain": [
       "            date_time  response_time status_code\n",
       "0 2021-01-01 03:37:41     202.210236         204\n",
       "1 2021-01-01 15:35:27     209.859186         500\n",
       "2 2021-01-01 15:56:27     183.012084         204\n",
       "3 2021-01-01 16:01:11     167.256547         200\n",
       "4 2021-01-01 17:50:19     171.639320         200"
      ]
     },
     "execution_count": 13,
     "metadata": {},
     "output_type": "execute_result"
    }
   ],
   "source": [
    "df.head()"
   ]
  },
  {
   "cell_type": "code",
   "execution_count": 14,
   "id": "e7b99a60-1925-4183-be30-7104bd53446d",
   "metadata": {},
   "outputs": [
    {
     "data": {
      "text/plain": [
       "array([1190.52855859, 1033.13858739, 1013.15749473, 1009.59715482,\n",
       "       1008.48345596,  997.38654847,  970.76742941,  916.77630521,\n",
       "        892.86137581,  891.85885514])"
      ]
     },
     "execution_count": 14,
     "metadata": {},
     "output_type": "execute_result"
    }
   ],
   "source": [
    "np.sort(df.response_time)[::-1][:10]"
   ]
  },
  {
   "cell_type": "code",
   "execution_count": 15,
   "id": "86b912ad-75e7-430c-8a24-e1ec5309e0aa",
   "metadata": {},
   "outputs": [],
   "source": [
    "import matplotlib.pyplot as plt\n",
    "import seaborn as sns\n",
    "plt.style.use('fivethirtyeight')\n",
    "\n",
    "def plot_count(feature, title, df, size=1):\n",
    "    \"\"\"クラス/特徴量をプロットする\n",
    "    Pram:\n",
    "        feature : 分析するカラム\n",
    "        title : グラフタイトル\n",
    "        df : プロットするデータフレーム\n",
    "        size : デフォルト 1.\n",
    "    \"\"\"\n",
    "    f, ax = plt.subplots(1,1, figsize=(4*size,4))\n",
    "    total = float(len(df))\n",
    "    # 最大20カラムをヒストグラムで表示\n",
    "#     g = sns.countplot(data=df, x = feature, order = df[feature].value_counts().index[:20], palette='Set3')\n",
    "    g = sns.countplot(data=df, y = feature, order = df[feature].value_counts().index[:10], palette='Set3')\n",
    "    g.set_title(\"Number and percentage of {}\".format(title))\n",
    "#     if(size > 2):\n",
    "        # サイズ2以上の時、行名を90°回転し、表示\n",
    "#         plt.xticks(rotation=90, size=8)\n",
    "    # データ比率の表示\n",
    "    for p in ax.patches:\n",
    "        height = p.get_height()\n",
    "        width = p.get_width()\n",
    "#         ax.text(p.get_x()+p.get_width()/2.,\n",
    "#                 height + 3,\n",
    "#                 '{:1.2f}%'.format(100*height/total),\n",
    "#                 ha=\"center\")\n",
    "        ax.text(width + 126,\n",
    "                p.get_y()+p.get_height()+.025/2.,\n",
    "                '{:1.2f}%'.format(100*width/total),\n",
    "                ha=\"right\") \n",
    "    plt.tight_layout()\n",
    "    plt.show()"
   ]
  },
  {
   "cell_type": "code",
   "execution_count": 16,
   "id": "5238db24-69a7-4238-af2d-77b7286cd70f",
   "metadata": {},
   "outputs": [
    {
     "data": {
      "image/png": "[encoded data removed]",
      "text/plain": [
       "<Figure size 1400x400 with 1 Axes>"
      ]
     },
     "metadata": {},
     "output_type": "display_data"
    }
   ],
   "source": [
    "# status_codeの比率を確認する\n",
    "plot_count(feature='status_code', title='status_code', df=df, size=3.5)"
   ]
  },
  {
   "cell_type": "code",
   "execution_count": null,
   "id": "0efbbde2-8216-40df-8b9e-0539ad327011",
   "metadata": {},
   "outputs": [],
   "source": []
  },
  {
   "cell_type": "code",
   "execution_count": 17,
   "id": "6a80dfb4-639c-453f-ad55-06b2ad678e22",
   "metadata": {},
   "outputs": [
    {
     "name": "stdout",
     "output_type": "stream",
     "text": [
      "\n",
      "\n",
      "\u001b[1m> Entering new AgentExecutor chain...\u001b[0m\n"
     ]
    },
    {
     "ename": "OutputParserException",
     "evalue": "Could not parse LLM output: `\nAnswer: | date_time | response_time | status_code |\n| --- | --- | --- |\n|   0 |  201.962427 |   404 |\n|   1 |  202.227561 |   403 |\n|   2 |  202.723657 |   200 |\n|   3 |  203.671652 |   500 |\n|   4 |  203.876831 |   404 |\n\n    import pandas as pd\n    import numpy as np\n\n    # Read the CSV file into a DataFrame object named 'df'\n    df = pd.read_csv('http://localhost:5000/test-data/sample-data-file')\n\n    # Find`",
     "output_type": "error",
     "traceback": [
      "\u001b[0;31m---------------------------------------------------------------------------\u001b[0m",
      "\u001b[0;31mOutputParserException\u001b[0m                     Traceback (most recent call last)",
      "Cell \u001b[0;32mIn[17], line 6\u001b[0m\n\u001b[1;32m      3\u001b[0m agent \u001b[38;5;241m=\u001b[39m create_pandas_dataframe_agent(llm, df, verbose\u001b[38;5;241m=\u001b[39m\u001b[38;5;28;01mTrue\u001b[39;00m)\n\u001b[1;32m      5\u001b[0m \u001b[38;5;66;03m# agent.run(\"What is the average response_time?\")\u001b[39;00m\n\u001b[0;32m----> 6\u001b[0m text \u001b[38;5;241m=\u001b[39m \u001b[43magent\u001b[49m\u001b[38;5;241;43m.\u001b[39;49m\u001b[43mrun\u001b[49m\u001b[43m(\u001b[49m\u001b[38;5;124;43m\"\u001b[39;49m\u001b[38;5;124;43mデータフレームは、HTTPアクセスログデータを模した時系列の異常検知の疑似データです。「response_time」が1000以上のデータは異常データです。この時、異常データの「date_time」を教えてください。また、異常データの「status_code」もそれぞれ教えてください。\u001b[39;49m\u001b[38;5;124;43m\"\u001b[39;49m\u001b[43m)\u001b[49m\u001b[38;5;66;03m# ステップバイステップで\u001b[39;00m\n\u001b[1;32m      7\u001b[0m \u001b[38;5;28mprint\u001b[39m(text)\n",
      "File \u001b[0;32m/usr/local/lib/python3.10/dist-packages/langchain/chains/base.py:213\u001b[0m, in \u001b[0;36mChain.run\u001b[0;34m(self, *args, **kwargs)\u001b[0m\n\u001b[1;32m    211\u001b[0m     \u001b[38;5;28;01mif\u001b[39;00m \u001b[38;5;28mlen\u001b[39m(args) \u001b[38;5;241m!=\u001b[39m \u001b[38;5;241m1\u001b[39m:\n\u001b[1;32m    212\u001b[0m         \u001b[38;5;28;01mraise\u001b[39;00m \u001b[38;5;167;01mValueError\u001b[39;00m(\u001b[38;5;124m\"\u001b[39m\u001b[38;5;124m`run` supports only one positional argument.\u001b[39m\u001b[38;5;124m\"\u001b[39m)\n\u001b[0;32m--> 213\u001b[0m     \u001b[38;5;28;01mreturn\u001b[39;00m \u001b[38;5;28;43mself\u001b[39;49m\u001b[43m(\u001b[49m\u001b[43margs\u001b[49m\u001b[43m[\u001b[49m\u001b[38;5;241;43m0\u001b[39;49m\u001b[43m]\u001b[49m\u001b[43m)\u001b[49m[\u001b[38;5;28mself\u001b[39m\u001b[38;5;241m.\u001b[39moutput_keys[\u001b[38;5;241m0\u001b[39m]]\n\u001b[1;32m    215\u001b[0m \u001b[38;5;28;01mif\u001b[39;00m kwargs \u001b[38;5;129;01mand\u001b[39;00m \u001b[38;5;129;01mnot\u001b[39;00m args:\n\u001b[1;32m    216\u001b[0m     \u001b[38;5;28;01mreturn\u001b[39;00m \u001b[38;5;28mself\u001b[39m(kwargs)[\u001b[38;5;28mself\u001b[39m\u001b[38;5;241m.\u001b[39moutput_keys[\u001b[38;5;241m0\u001b[39m]]\n",
      "File \u001b[0;32m/usr/local/lib/python3.10/dist-packages/langchain/chains/base.py:116\u001b[0m, in \u001b[0;36mChain.__call__\u001b[0;34m(self, inputs, return_only_outputs)\u001b[0m\n\u001b[1;32m    114\u001b[0m \u001b[38;5;28;01mexcept\u001b[39;00m (\u001b[38;5;167;01mKeyboardInterrupt\u001b[39;00m, \u001b[38;5;167;01mException\u001b[39;00m) \u001b[38;5;28;01mas\u001b[39;00m e:\n\u001b[1;32m    115\u001b[0m     \u001b[38;5;28mself\u001b[39m\u001b[38;5;241m.\u001b[39mcallback_manager\u001b[38;5;241m.\u001b[39mon_chain_error(e, verbose\u001b[38;5;241m=\u001b[39m\u001b[38;5;28mself\u001b[39m\u001b[38;5;241m.\u001b[39mverbose)\n\u001b[0;32m--> 116\u001b[0m     \u001b[38;5;28;01mraise\u001b[39;00m e\n\u001b[1;32m    117\u001b[0m \u001b[38;5;28mself\u001b[39m\u001b[38;5;241m.\u001b[39mcallback_manager\u001b[38;5;241m.\u001b[39mon_chain_end(outputs, verbose\u001b[38;5;241m=\u001b[39m\u001b[38;5;28mself\u001b[39m\u001b[38;5;241m.\u001b[39mverbose)\n\u001b[1;32m    118\u001b[0m \u001b[38;5;28;01mreturn\u001b[39;00m \u001b[38;5;28mself\u001b[39m\u001b[38;5;241m.\u001b[39mprep_outputs(inputs, outputs, return_only_outputs)\n",
      "File \u001b[0;32m/usr/local/lib/python3.10/dist-packages/langchain/chains/base.py:113\u001b[0m, in \u001b[0;36mChain.__call__\u001b[0;34m(self, inputs, return_only_outputs)\u001b[0m\n\u001b[1;32m    107\u001b[0m \u001b[38;5;28mself\u001b[39m\u001b[38;5;241m.\u001b[39mcallback_manager\u001b[38;5;241m.\u001b[39mon_chain_start(\n\u001b[1;32m    108\u001b[0m     {\u001b[38;5;124m\"\u001b[39m\u001b[38;5;124mname\u001b[39m\u001b[38;5;124m\"\u001b[39m: \u001b[38;5;28mself\u001b[39m\u001b[38;5;241m.\u001b[39m\u001b[38;5;18m__class__\u001b[39m\u001b[38;5;241m.\u001b[39m\u001b[38;5;18m__name__\u001b[39m},\n\u001b[1;32m    109\u001b[0m     inputs,\n\u001b[1;32m    110\u001b[0m     verbose\u001b[38;5;241m=\u001b[39m\u001b[38;5;28mself\u001b[39m\u001b[38;5;241m.\u001b[39mverbose,\n\u001b[1;32m    111\u001b[0m )\n\u001b[1;32m    112\u001b[0m \u001b[38;5;28;01mtry\u001b[39;00m:\n\u001b[0;32m--> 113\u001b[0m     outputs \u001b[38;5;241m=\u001b[39m \u001b[38;5;28;43mself\u001b[39;49m\u001b[38;5;241;43m.\u001b[39;49m\u001b[43m_call\u001b[49m\u001b[43m(\u001b[49m\u001b[43minputs\u001b[49m\u001b[43m)\u001b[49m\n\u001b[1;32m    114\u001b[0m \u001b[38;5;28;01mexcept\u001b[39;00m (\u001b[38;5;167;01mKeyboardInterrupt\u001b[39;00m, \u001b[38;5;167;01mException\u001b[39;00m) \u001b[38;5;28;01mas\u001b[39;00m e:\n\u001b[1;32m    115\u001b[0m     \u001b[38;5;28mself\u001b[39m\u001b[38;5;241m.\u001b[39mcallback_manager\u001b[38;5;241m.\u001b[39mon_chain_error(e, verbose\u001b[38;5;241m=\u001b[39m\u001b[38;5;28mself\u001b[39m\u001b[38;5;241m.\u001b[39mverbose)\n",
      "File \u001b[0;32m/usr/local/lib/python3.10/dist-packages/langchain/agents/agent.py:796\u001b[0m, in \u001b[0;36mAgentExecutor._call\u001b[0;34m(self, inputs)\u001b[0m\n\u001b[1;32m    794\u001b[0m \u001b[38;5;66;03m# We now enter the agent loop (until it returns something).\u001b[39;00m\n\u001b[1;32m    795\u001b[0m \u001b[38;5;28;01mwhile\u001b[39;00m \u001b[38;5;28mself\u001b[39m\u001b[38;5;241m.\u001b[39m_should_continue(iterations, time_elapsed):\n\u001b[0;32m--> 796\u001b[0m     next_step_output \u001b[38;5;241m=\u001b[39m \u001b[38;5;28;43mself\u001b[39;49m\u001b[38;5;241;43m.\u001b[39;49m\u001b[43m_take_next_step\u001b[49m\u001b[43m(\u001b[49m\n\u001b[1;32m    797\u001b[0m \u001b[43m        \u001b[49m\u001b[43mname_to_tool_map\u001b[49m\u001b[43m,\u001b[49m\u001b[43m \u001b[49m\u001b[43mcolor_mapping\u001b[49m\u001b[43m,\u001b[49m\u001b[43m \u001b[49m\u001b[43minputs\u001b[49m\u001b[43m,\u001b[49m\u001b[43m \u001b[49m\u001b[43mintermediate_steps\u001b[49m\n\u001b[1;32m    798\u001b[0m \u001b[43m    \u001b[49m\u001b[43m)\u001b[49m\n\u001b[1;32m    799\u001b[0m     \u001b[38;5;28;01mif\u001b[39;00m \u001b[38;5;28misinstance\u001b[39m(next_step_output, AgentFinish):\n\u001b[1;32m    800\u001b[0m         \u001b[38;5;28;01mreturn\u001b[39;00m \u001b[38;5;28mself\u001b[39m\u001b[38;5;241m.\u001b[39m_return(next_step_output, intermediate_steps)\n",
      "File \u001b[0;32m/usr/local/lib/python3.10/dist-packages/langchain/agents/agent.py:676\u001b[0m, in \u001b[0;36mAgentExecutor._take_next_step\u001b[0;34m(self, name_to_tool_map, color_mapping, inputs, intermediate_steps)\u001b[0m\n\u001b[1;32m    671\u001b[0m \u001b[38;5;250m\u001b[39m\u001b[38;5;124;03m\"\"\"Take a single step in the thought-action-observation loop.\u001b[39;00m\n\u001b[1;32m    672\u001b[0m \n\u001b[1;32m    673\u001b[0m \u001b[38;5;124;03mOverride this to take control of how the agent makes and acts on choices.\u001b[39;00m\n\u001b[1;32m    674\u001b[0m \u001b[38;5;124;03m\"\"\"\u001b[39;00m\n\u001b[1;32m    675\u001b[0m \u001b[38;5;66;03m# Call the LLM to see what to do.\u001b[39;00m\n\u001b[0;32m--> 676\u001b[0m output \u001b[38;5;241m=\u001b[39m \u001b[38;5;28;43mself\u001b[39;49m\u001b[38;5;241;43m.\u001b[39;49m\u001b[43magent\u001b[49m\u001b[38;5;241;43m.\u001b[39;49m\u001b[43mplan\u001b[49m\u001b[43m(\u001b[49m\u001b[43mintermediate_steps\u001b[49m\u001b[43m,\u001b[49m\u001b[43m \u001b[49m\u001b[38;5;241;43m*\u001b[39;49m\u001b[38;5;241;43m*\u001b[39;49m\u001b[43minputs\u001b[49m\u001b[43m)\u001b[49m\n\u001b[1;32m    677\u001b[0m \u001b[38;5;66;03m# If the tool chosen is the finishing tool, then we end and return.\u001b[39;00m\n\u001b[1;32m    678\u001b[0m \u001b[38;5;28;01mif\u001b[39;00m \u001b[38;5;28misinstance\u001b[39m(output, AgentFinish):\n",
      "File \u001b[0;32m/usr/local/lib/python3.10/dist-packages/langchain/agents/agent.py:385\u001b[0m, in \u001b[0;36mAgent.plan\u001b[0;34m(self, intermediate_steps, **kwargs)\u001b[0m\n\u001b[1;32m    383\u001b[0m full_inputs \u001b[38;5;241m=\u001b[39m \u001b[38;5;28mself\u001b[39m\u001b[38;5;241m.\u001b[39mget_full_inputs(intermediate_steps, \u001b[38;5;241m*\u001b[39m\u001b[38;5;241m*\u001b[39mkwargs)\n\u001b[1;32m    384\u001b[0m full_output \u001b[38;5;241m=\u001b[39m \u001b[38;5;28mself\u001b[39m\u001b[38;5;241m.\u001b[39mllm_chain\u001b[38;5;241m.\u001b[39mpredict(\u001b[38;5;241m*\u001b[39m\u001b[38;5;241m*\u001b[39mfull_inputs)\n\u001b[0;32m--> 385\u001b[0m \u001b[38;5;28;01mreturn\u001b[39;00m \u001b[38;5;28;43mself\u001b[39;49m\u001b[38;5;241;43m.\u001b[39;49m\u001b[43moutput_parser\u001b[49m\u001b[38;5;241;43m.\u001b[39;49m\u001b[43mparse\u001b[49m\u001b[43m(\u001b[49m\u001b[43mfull_output\u001b[49m\u001b[43m)\u001b[49m\n",
      "File \u001b[0;32m/usr/local/lib/python3.10/dist-packages/langchain/agents/mrkl/output_parser.py:26\u001b[0m, in \u001b[0;36mMRKLOutputParser.parse\u001b[0;34m(self, text)\u001b[0m\n\u001b[1;32m     24\u001b[0m match \u001b[38;5;241m=\u001b[39m re\u001b[38;5;241m.\u001b[39msearch(regex, text, re\u001b[38;5;241m.\u001b[39mDOTALL)\n\u001b[1;32m     25\u001b[0m \u001b[38;5;28;01mif\u001b[39;00m \u001b[38;5;129;01mnot\u001b[39;00m match:\n\u001b[0;32m---> 26\u001b[0m     \u001b[38;5;28;01mraise\u001b[39;00m OutputParserException(\u001b[38;5;124mf\u001b[39m\u001b[38;5;124m\"\u001b[39m\u001b[38;5;124mCould not parse LLM output: `\u001b[39m\u001b[38;5;132;01m{\u001b[39;00mtext\u001b[38;5;132;01m}\u001b[39;00m\u001b[38;5;124m`\u001b[39m\u001b[38;5;124m\"\u001b[39m)\n\u001b[1;32m     27\u001b[0m action \u001b[38;5;241m=\u001b[39m match\u001b[38;5;241m.\u001b[39mgroup(\u001b[38;5;241m1\u001b[39m)\u001b[38;5;241m.\u001b[39mstrip()\n\u001b[1;32m     28\u001b[0m action_input \u001b[38;5;241m=\u001b[39m match\u001b[38;5;241m.\u001b[39mgroup(\u001b[38;5;241m2\u001b[39m)\n",
      "\u001b[0;31mOutputParserException\u001b[0m: Could not parse LLM output: `\nAnswer: | date_time | response_time | status_code |\n| --- | --- | --- |\n|   0 |  201.962427 |   404 |\n|   1 |  202.227561 |   403 |\n|   2 |  202.723657 |   200 |\n|   3 |  203.671652 |   500 |\n|   4 |  203.876831 |   404 |\n\n    import pandas as pd\n    import numpy as np\n\n    # Read the CSV file into a DataFrame object named 'df'\n    df = pd.read_csv('http://localhost:5000/test-data/sample-data-file')\n\n    # Find`"
     ]
    }
   ],
   "source": [
    "from langchain.agents import create_pandas_dataframe_agent\n",
    "\n",
    "agent = create_pandas_dataframe_agent(llm, df, verbose=True)\n",
    "\n",
    "# agent.run(\"What is the average response_time?\")\n",
    "text = agent.run(\"データフレームは、HTTPアクセスログデータを模した時系列の異常検知の疑似データです。「response_time」が1000以上のデータは異常データです。この時、異常データの「date_time」を教えてください。また、異常データの「status_code」もそれぞれ教えてください。\")# ステップバイステップで\n",
    "print(text)"
   ]
  },
  {
   "cell_type": "code",
   "execution_count": null,
   "id": "d3729093-8d79-43f9-8a64-1c5a81237ff0",
   "metadata": {},
   "outputs": [],
   "source": []
  }
 ],
 "metadata": {
  "kernelspec": {
   "display_name": "Python 3 (ipykernel)",
   "language": "python",
   "name": "python3"
  },
  "language_info": {
   "codemirror_mode": {
    "name": "ipython",
    "version": 3
   },
   "file_extension": ".py",
   "mimetype": "text/x-python",
   "name": "python",
   "nbconvert_exporter": "python",
   "pygments_lexer": "ipython3",
   "version": "3.10.6"
  }
 },
 "nbformat": 4,
 "nbformat_minor": 5
}
