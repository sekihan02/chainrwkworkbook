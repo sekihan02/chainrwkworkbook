{
 "cells": [
  {
   "cell_type": "code",
   "execution_count": 1,
   "id": "b05c4f41-498e-48c9-9297-b8fc97a135e4",
   "metadata": {},
   "outputs": [
    {
     "name": "stdout",
     "output_type": "stream",
     "text": [
      "Python 3.10.6\n"
     ]
    }
   ],
   "source": [
    "!python3 --version"
   ]
  },
  {
   "cell_type": "code",
   "execution_count": 2,
   "id": "67dedadb-4e2c-4028-acaa-ca0abbabc182",
   "metadata": {},
   "outputs": [
    {
     "name": "stdout",
     "output_type": "stream",
     "text": [
      "Requirement already satisfied: pip in /usr/local/lib/python3.10/dist-packages (23.2.1)\n",
      "\u001b[33mDEPRECATION: distro-info 1.1build1 has a non-standard version number. pip 23.3 will enforce this behaviour change. A possible replacement is to upgrade to a newer version of distro-info or contact the author to suggest that they release a version with a conforming version number. Discussion can be found at https://github.com/pypa/pip/issues/12063\u001b[0m\u001b[33m\n",
      "\u001b[0m\u001b[33mWARNING: Running pip as the 'root' user can result in broken permissions and conflicting behaviour with the system package manager. It is recommended to use a virtual environment instead: https://pip.pypa.io/warnings/venv\u001b[0m\u001b[33m\n",
      "\u001b[0m"
     ]
    }
   ],
   "source": [
    "!python3 -m pip install --upgrade pip"
   ]
  },
  {
   "cell_type": "code",
   "execution_count": 3,
   "id": "d8be6b25-e793-456b-8e56-a0013a71633a",
   "metadata": {},
   "outputs": [
    {
     "name": "stdout",
     "output_type": "stream",
     "text": [
      "Requirement already satisfied: openai in /usr/local/lib/python3.10/dist-packages (0.27.8)\n",
      "Requirement already satisfied: requests>=2.20 in /usr/local/lib/python3.10/dist-packages (from openai) (2.28.1)\n",
      "Requirement already satisfied: tqdm in /usr/local/lib/python3.10/dist-packages (from openai) (4.65.0)\n",
      "Requirement already satisfied: aiohttp in /usr/local/lib/python3.10/dist-packages (from openai) (3.8.4)\n",
      "Requirement already satisfied: charset-normalizer<3,>=2 in /usr/local/lib/python3.10/dist-packages (from requests>=2.20->openai) (2.1.1)\n",
      "Requirement already satisfied: idna<4,>=2.5 in /usr/local/lib/python3.10/dist-packages (from requests>=2.20->openai) (3.4)\n",
      "Requirement already satisfied: urllib3<1.27,>=1.21.1 in /usr/local/lib/python3.10/dist-packages (from requests>=2.20->openai) (1.26.13)\n",
      "Requirement already satisfied: certifi>=2017.4.17 in /usr/local/lib/python3.10/dist-packages (from requests>=2.20->openai) (2022.12.7)\n",
      "Requirement already satisfied: attrs>=17.3.0 in /usr/local/lib/python3.10/dist-packages (from aiohttp->openai) (23.1.0)\n",
      "Requirement already satisfied: multidict<7.0,>=4.5 in /usr/local/lib/python3.10/dist-packages (from aiohttp->openai) (6.0.4)\n",
      "Requirement already satisfied: async-timeout<5.0,>=4.0.0a3 in /usr/local/lib/python3.10/dist-packages (from aiohttp->openai) (4.0.2)\n",
      "Requirement already satisfied: yarl<2.0,>=1.0 in /usr/local/lib/python3.10/dist-packages (from aiohttp->openai) (1.9.2)\n",
      "Requirement already satisfied: frozenlist>=1.1.1 in /usr/local/lib/python3.10/dist-packages (from aiohttp->openai) (1.4.0)\n",
      "Requirement already satisfied: aiosignal>=1.1.2 in /usr/local/lib/python3.10/dist-packages (from aiohttp->openai) (1.3.1)\n",
      "\u001b[33mDEPRECATION: distro-info 1.1build1 has a non-standard version number. pip 23.3 will enforce this behaviour change. A possible replacement is to upgrade to a newer version of distro-info or contact the author to suggest that they release a version with a conforming version number. Discussion can be found at https://github.com/pypa/pip/issues/12063\u001b[0m\u001b[33m\n",
      "\u001b[0m\u001b[33mWARNING: Running pip as the 'root' user can result in broken permissions and conflicting behaviour with the system package manager. It is recommended to use a virtual environment instead: https://pip.pypa.io/warnings/venv\u001b[0m\u001b[33m\n",
      "\u001b[0m"
     ]
    }
   ],
   "source": [
    "!pip3 install -U openai"
   ]
  },
  {
   "cell_type": "code",
   "execution_count": 4,
   "id": "8d0917f8-2776-4b47-8e75-913cf1bd01ad",
   "metadata": {},
   "outputs": [],
   "source": [
    "import json\n",
    "import os\n",
    "import sys\n",
    "\n",
    "import openai"
   ]
  },
  {
   "cell_type": "code",
   "execution_count": 5,
   "id": "f9371b69-23d0-42e4-ab9a-72846c676d39",
   "metadata": {},
   "outputs": [],
   "source": [
    "# OpenAIのapiキー\n",
    "openai.api_key = 'OPENAI_KEY'\n",
    "os.environ[\"OPENAI_API_KEY\"] = openai.api_key"
   ]
  },
  {
   "cell_type": "code",
   "execution_count": 6,
   "id": "2ad7b66b-8453-490e-ae27-d0241cee3f76",
   "metadata": {},
   "outputs": [],
   "source": [
    "# 関数の実装\n",
    "def get_belonging_prefecture(cities):\n",
    "    \"\"\"市町村名の羅列を受け取って、それぞれと都道府県の対応情報を持ったdictを返す。\n",
    "        ただし特に定義のないものはモデルが学習した知識をそのまま使えるように「変更なし」を格納する\"\"\"\n",
    "    def get_prefecture(city):\n",
    "        return {\"町田市\": \"神奈川県\"}.get(city, \"変更なし\")\n",
    "\n",
    "    prefecture_answer = [\n",
    "        {\"市区町村\": city, \"都道府県\": get_prefecture(city)} for city in cities.split(\",\")\n",
    "    ]\n",
    "    return json.dumps(prefecture_answer)"
   ]
  },
  {
   "cell_type": "code",
   "execution_count": 7,
   "id": "f8076b55-b2dc-4b69-b1ee-130993da2a61",
   "metadata": {},
   "outputs": [],
   "source": [
    "# 使うことができる関数を羅列する\n",
    "functions = [\n",
    "    # 質問に対してこの関数を使うかどうか、\n",
    "    # また使う時の引数は何にするかを判断するための情報を与える\n",
    "    {\n",
    "        \"name\": \"get_belonging_prefecture\",\n",
    "        \"description\": \"所属都道府県の変更情報を得る\",\n",
    "        \"parameters\": {\n",
    "            \"type\": \"object\",\n",
    "            \"properties\": {\n",
    "                # cities引数の情報\n",
    "                \"cities\": {\n",
    "                    \"type\": \"string\",\n",
    "                    \"description\": \"市区町村名入力。半角カンマ区切りで複数要素を入力可能。各要素は「xx市」「xx区」「xx町」「xx村」のいずれか。例: 世田谷区,大阪市,府中町,山中湖村\",\n",
    "                },\n",
    "            },\n",
    "            \"required\": [\"cities\"],\n",
    "        },\n",
    "    }\n",
    "]"
   ]
  },
  {
   "cell_type": "code",
   "execution_count": 13,
   "id": "a96c9d78-3c74-420e-861c-f6acc2120e3a",
   "metadata": {},
   "outputs": [],
   "source": [
    "def q_Chat(question):\n",
    "    response = openai.ChatCompletion.create(\n",
    "        # model=\"gpt-4-0613\",\n",
    "        model=\"gpt-3.5-turbo-0613\",\n",
    "        messages=[\n",
    "            {\"role\": \"user\", \"content\": question},\n",
    "        ],\n",
    "        temperature=0.8,\n",
    "        functions=functions,\n",
    "        function_call=\"auto\",\n",
    "    )\n",
    "    \n",
    "    # print(json.dumps(response), file=sys.stderr)\n",
    "    # print(json.dumps(response))\n",
    "    print(response)\n",
    "    \n",
    "    message = response[\"choices\"][0][\"message\"]\n",
    "    \n",
    "    if message.get(\"function_call\"):\n",
    "        # 関数を使用すると判断された場合\n",
    "\n",
    "        # 使うと判断された関数名\n",
    "        function_name = message[\"function_call\"][\"name\"]\n",
    "        # その時の引数dict\n",
    "        arguments = json.loads(message[\"function_call\"][\"arguments\"])\n",
    "\n",
    "        # 2段階目の処理\n",
    "        # 関数の実行\n",
    "        function_response = get_belonging_prefecture(\n",
    "            cities=arguments.get(\"cities\"),\n",
    "        )\n",
    "        # print(function_response, file=sys.stderr)\n",
    "        print(arguments)\n",
    "\n",
    "        # 3段階目の処理\n",
    "        # 関数実行結果を使ってもう一度質問\n",
    "        second_response = openai.ChatCompletion.create(\n",
    "            # model=\"gpt-4-0613\",\n",
    "            model=\"gpt-3.5-turbo-0613\",\n",
    "            messages=[\n",
    "                {\"role\": \"user\", \"content\": question},\n",
    "                message,\n",
    "                {\n",
    "                    \"role\": \"function\",\n",
    "                    \"name\": function_name,\n",
    "                    \"content\": function_response,\n",
    "                },\n",
    "            ],\n",
    "            temperature=0.8,\n",
    "        )\n",
    "\n",
    "        # print(json.dumps(second_response), file=sys.stderr)\n",
    "        # print(json.dumps(second_response))\n",
    "        # print(second_response)\n",
    "        print(second_response.choices[0][\"message\"][\"content\"])\n",
    "        # print(second_response.choices[0][\"message\"][\"content\"].strip())\n",
    "    else:\n",
    "        # 関数を使用しない場合\n",
    "        print(message[\"content\"])\n",
    "        # print(message[\"content\"].strip())\n",
    "        "
   ]
  },
  {
   "cell_type": "code",
   "execution_count": 14,
   "id": "3fd2d1d3-71d4-407f-a023-e813e2fc7c69",
   "metadata": {},
   "outputs": [],
   "source": [
    "question = \"室町時代の赤松氏について、特に禁門の変の時期のことについて教えてください\""
   ]
  },
  {
   "cell_type": "code",
   "execution_count": 15,
   "id": "82247039-ede2-4c9b-904c-4b1788211428",
   "metadata": {},
   "outputs": [
    {
     "name": "stdout",
     "output_type": "stream",
     "text": [
      "{\"id\": \"chatcmpl-7gh1CAbC2kPEt1W1xmF28X4FZNKPj\", \"object\": \"chat.completion\", \"created\": 1690409494, \"model\": \"gpt-3.5-turbo-0613\", \"choices\": [{\"index\": 0, \"message\": {\"role\": \"assistant\", \"content\": \"\\u7981\\u9580\\u306e\\u5909\\u306f\\u3001\\u5ba4\\u753a\\u6642\\u4ee3\\u306e\\u5fdc\\u4ec1\\u306e\\u4e71\\u3068\\u3044\\u3046\\u5185\\u4e71\\u306e\\u4e2d\\u3067\\u8d77\\u3053\\u3063\\u305f\\u4e8b\\u4ef6\\u3067\\u3059\\u3002\\u8d64\\u677e\\u6c0f\\u306f\\u3001\\u5ba4\\u753a\\u5e55\\u5e9c\\u306e\\u7ba1\\u9818\\u3067\\u3042\\u3063\\u305f\\u7d30\\u5ddd\\u52dd\\u5143\\u306e\\u5bb6\\u65cf\\u3067\\u3042\\u308a\\u3001\\u5fdc\\u4ec1\\u306e\\u4e71\\u306e\\u4e2d\\u3067\\u4e3b\\u5c0e\\u7684\\u306a\\u5f79\\u5272\\u3092\\u679c\\u305f\\u3057\\u307e\\u3057\\u305f\\u3002\\n\\n\\u7981\\u9580\\u306e\\u5909\\u306f\\u30011467\\u5e74\\u306b\\u4eac\\u90fd\\u306e\\u6771\\u5bfa\\u306e\\u9580\\u3067\\u3042\\u308b\\u7981\\u9580\\u304c\\u713c\\u304b\\u308c\\u305f\\u3053\\u3068\\u304b\\u3089\\u59cb\\u307e\\u308a\\u307e\\u3059\\u3002\\u3053\\u306e\\u4e8b\\u4ef6\\u306f\\u3001\\u7d30\\u5ddd\\u52dd\\u5143\\u3068\\u5c71\\u540d\\u6301\\u8c4a\\u306e\\u5bfe\\u7acb\\u304c\\u539f\\u56e0\\u3067\\u8d77\\u3053\\u308a\\u307e\\u3057\\u305f\\u3002\\u8d64\\u677e\\u6c0f\\u306f\\u7d30\\u5ddd\\u52dd\\u5143\\u3092\\u652f\\u6301\\u3057\\u3001\\u5c71\\u540d\\u6301\\u8c4a\\u3068\\u305d\\u306e\\u52e2\\u529b\\u3068\\u6226\\u3044\\u307e\\u3057\\u305f\\u3002\\n\\n\\u7981\\u9580\\u306e\\u5909\\u306e\\u6642\\u671f\\u306b\\u306f\\u3001\\u4eac\\u90fd\\u3092\\u4e2d\\u5fc3\\u3068\\u3059\\u308b\\u5404\\u5730\\u3067\\u6fc0\\u3057\\u3044\\u6226\\u95d8\\u304c\\u884c\\u308f\\u308c\\u307e\\u3057\\u305f\\u3002\\u8d64\\u677e\\u6c0f\\u306f\\u7d30\\u5ddd\\u52dd\\u5143\\u306e\\u6307\\u63ee\\u306e\\u3082\\u3068\\u3001\\u5c71\\u540d\\u6301\\u8c4a\\u3084\\u4ed6\\u306e\\u52e2\\u529b\\u3068\\u6226\\u3044\\u307e\\u3057\\u305f\\u304c\\u3001\\u6700\\u7d42\\u7684\\u306b\\u306f\\u7d30\\u5ddd\\u52dd\\u5143\\u304c\\u6557\\u5317\\u3057\\u3001\\u8d64\\u677e\\u6c0f\\u3082\\u6ec5\\u4ea1\\u3057\\u307e\\u3057\\u305f\\u3002\\n\\n\\u7981\\u9580\\u306e\\u5909\\u306f\\u3001\\u5ba4\\u753a\\u6642\\u4ee3\\u306e\\u653f\\u6cbb\\u7684\\u6df7\\u4e71\\u306e\\u8c61\\u5fb4\\u3068\\u3055\\u308c\\u3066\\u304a\\u308a\\u3001\\u5e55\\u5e9c\\u306e\\u6a29\\u5a01\\u306e\\u4f4e\\u4e0b\\u3084\\u6226\\u56fd\\u6642\\u4ee3\\u3078\\u306e\\u79fb\\u884c\\u306e\\u304d\\u3063\\u304b\\u3051\\u3068\\u306a\\u308a\\u307e\\u3057\\u305f\\u3002\\u307e\\u305f\\u3001\\u3053\\u306e\\u4e8b\\u4ef6\\u306f\\u65e5\\u672c\\u53f2\\u4e0a\\u521d\\u3081\\u3066\\u306e\\u7981\\u9580\\u306e\\u5909\\u3068\\u3057\\u3066\\u77e5\\u3089\\u308c\\u3066\\u3044\\u307e\\u3059\\u3002\\n\\n\\u4ee5\\u4e0a\\u304c\\u7981\\u9580\\u306e\\u5909\\u306e\\u6642\\u671f\\u306b\\u304a\\u3051\\u308b\\u8d64\\u677e\\u6c0f\\u306b\\u3064\\u3044\\u3066\\u306e\\u6982\\u8981\\u3067\\u3059\\u3002\\u8a73\\u7d30\\u306a\\u60c5\\u5831\\u3084\\u5177\\u4f53\\u7684\\u306a\\u51fa\\u6765\\u4e8b\\u306b\\u3064\\u3044\\u3066\\u306f\\u3001\\u8a73\\u7d30\\u306a\\u53f2\\u6599\\u3084\\u7814\\u7a76\\u3092\\u53c2\\u7167\\u3059\\u308b\\u3053\\u3068\\u3092\\u304a\\u3059\\u3059\\u3081\\u3057\\u307e\\u3059\\u3002\"}, \"finish_reason\": \"stop\"}], \"usage\": {\"prompt_tokens\": 195, \"completion_tokens\": 501, \"total_tokens\": 696}}\n",
      "{\n",
      "  \"id\": \"chatcmpl-7gh1CAbC2kPEt1W1xmF28X4FZNKPj\",\n",
      "  \"object\": \"chat.completion\",\n",
      "  \"created\": 1690409494,\n",
      "  \"model\": \"gpt-3.5-turbo-0613\",\n",
      "  \"choices\": [\n",
      "    {\n",
      "      \"index\": 0,\n",
      "      \"message\": {\n",
      "        \"role\": \"assistant\",\n",
      "        \"content\": \"\\u7981\\u9580\\u306e\\u5909\\u306f\\u3001\\u5ba4\\u753a\\u6642\\u4ee3\\u306e\\u5fdc\\u4ec1\\u306e\\u4e71\\u3068\\u3044\\u3046\\u5185\\u4e71\\u306e\\u4e2d\\u3067\\u8d77\\u3053\\u3063\\u305f\\u4e8b\\u4ef6\\u3067\\u3059\\u3002\\u8d64\\u677e\\u6c0f\\u306f\\u3001\\u5ba4\\u753a\\u5e55\\u5e9c\\u306e\\u7ba1\\u9818\\u3067\\u3042\\u3063\\u305f\\u7d30\\u5ddd\\u52dd\\u5143\\u306e\\u5bb6\\u65cf\\u3067\\u3042\\u308a\\u3001\\u5fdc\\u4ec1\\u306e\\u4e71\\u306e\\u4e2d\\u3067\\u4e3b\\u5c0e\\u7684\\u306a\\u5f79\\u5272\\u3092\\u679c\\u305f\\u3057\\u307e\\u3057\\u305f\\u3002\\n\\n\\u7981\\u9580\\u306e\\u5909\\u306f\\u30011467\\u5e74\\u306b\\u4eac\\u90fd\\u306e\\u6771\\u5bfa\\u306e\\u9580\\u3067\\u3042\\u308b\\u7981\\u9580\\u304c\\u713c\\u304b\\u308c\\u305f\\u3053\\u3068\\u304b\\u3089\\u59cb\\u307e\\u308a\\u307e\\u3059\\u3002\\u3053\\u306e\\u4e8b\\u4ef6\\u306f\\u3001\\u7d30\\u5ddd\\u52dd\\u5143\\u3068\\u5c71\\u540d\\u6301\\u8c4a\\u306e\\u5bfe\\u7acb\\u304c\\u539f\\u56e0\\u3067\\u8d77\\u3053\\u308a\\u307e\\u3057\\u305f\\u3002\\u8d64\\u677e\\u6c0f\\u306f\\u7d30\\u5ddd\\u52dd\\u5143\\u3092\\u652f\\u6301\\u3057\\u3001\\u5c71\\u540d\\u6301\\u8c4a\\u3068\\u305d\\u306e\\u52e2\\u529b\\u3068\\u6226\\u3044\\u307e\\u3057\\u305f\\u3002\\n\\n\\u7981\\u9580\\u306e\\u5909\\u306e\\u6642\\u671f\\u306b\\u306f\\u3001\\u4eac\\u90fd\\u3092\\u4e2d\\u5fc3\\u3068\\u3059\\u308b\\u5404\\u5730\\u3067\\u6fc0\\u3057\\u3044\\u6226\\u95d8\\u304c\\u884c\\u308f\\u308c\\u307e\\u3057\\u305f\\u3002\\u8d64\\u677e\\u6c0f\\u306f\\u7d30\\u5ddd\\u52dd\\u5143\\u306e\\u6307\\u63ee\\u306e\\u3082\\u3068\\u3001\\u5c71\\u540d\\u6301\\u8c4a\\u3084\\u4ed6\\u306e\\u52e2\\u529b\\u3068\\u6226\\u3044\\u307e\\u3057\\u305f\\u304c\\u3001\\u6700\\u7d42\\u7684\\u306b\\u306f\\u7d30\\u5ddd\\u52dd\\u5143\\u304c\\u6557\\u5317\\u3057\\u3001\\u8d64\\u677e\\u6c0f\\u3082\\u6ec5\\u4ea1\\u3057\\u307e\\u3057\\u305f\\u3002\\n\\n\\u7981\\u9580\\u306e\\u5909\\u306f\\u3001\\u5ba4\\u753a\\u6642\\u4ee3\\u306e\\u653f\\u6cbb\\u7684\\u6df7\\u4e71\\u306e\\u8c61\\u5fb4\\u3068\\u3055\\u308c\\u3066\\u304a\\u308a\\u3001\\u5e55\\u5e9c\\u306e\\u6a29\\u5a01\\u306e\\u4f4e\\u4e0b\\u3084\\u6226\\u56fd\\u6642\\u4ee3\\u3078\\u306e\\u79fb\\u884c\\u306e\\u304d\\u3063\\u304b\\u3051\\u3068\\u306a\\u308a\\u307e\\u3057\\u305f\\u3002\\u307e\\u305f\\u3001\\u3053\\u306e\\u4e8b\\u4ef6\\u306f\\u65e5\\u672c\\u53f2\\u4e0a\\u521d\\u3081\\u3066\\u306e\\u7981\\u9580\\u306e\\u5909\\u3068\\u3057\\u3066\\u77e5\\u3089\\u308c\\u3066\\u3044\\u307e\\u3059\\u3002\\n\\n\\u4ee5\\u4e0a\\u304c\\u7981\\u9580\\u306e\\u5909\\u306e\\u6642\\u671f\\u306b\\u304a\\u3051\\u308b\\u8d64\\u677e\\u6c0f\\u306b\\u3064\\u3044\\u3066\\u306e\\u6982\\u8981\\u3067\\u3059\\u3002\\u8a73\\u7d30\\u306a\\u60c5\\u5831\\u3084\\u5177\\u4f53\\u7684\\u306a\\u51fa\\u6765\\u4e8b\\u306b\\u3064\\u3044\\u3066\\u306f\\u3001\\u8a73\\u7d30\\u306a\\u53f2\\u6599\\u3084\\u7814\\u7a76\\u3092\\u53c2\\u7167\\u3059\\u308b\\u3053\\u3068\\u3092\\u304a\\u3059\\u3059\\u3081\\u3057\\u307e\\u3059\\u3002\"\n",
      "      },\n",
      "      \"finish_reason\": \"stop\"\n",
      "    }\n",
      "  ],\n",
      "  \"usage\": {\n",
      "    \"prompt_tokens\": 195,\n",
      "    \"completion_tokens\": 501,\n",
      "    \"total_tokens\": 696\n",
      "  }\n",
      "}\n",
      "禁門の変は、室町時代の応仁の乱という内乱の中で起こった事件です。赤松氏は、室町幕府の管領であった細川勝元の家族であり、応仁の乱の中で主導的な役割を果たしました。\n",
      "\n",
      "禁門の変は、1467年に京都の東寺の門である禁門が焼かれたことから始まります。この事件は、細川勝元と山名持豊の対立が原因で起こりました。赤松氏は細川勝元を支持し、山名持豊とその勢力と戦いました。\n",
      "\n",
      "禁門の変の時期には、京都を中心とする各地で激しい戦闘が行われました。赤松氏は細川勝元の指揮のもと、山名持豊や他の勢力と戦いましたが、最終的には細川勝元が敗北し、赤松氏も滅亡しました。\n",
      "\n",
      "禁門の変は、室町時代の政治的混乱の象徴とされており、幕府の権威の低下や戦国時代への移行のきっかけとなりました。また、この事件は日本史上初めての禁門の変として知られています。\n",
      "\n",
      "以上が禁門の変の時期における赤松氏についての概要です。詳細な情報や具体的な出来事については、詳細な史料や研究を参照することをおすすめします。\n"
     ]
    }
   ],
   "source": [
    "q_Chat(question)"
   ]
  },
  {
   "cell_type": "code",
   "execution_count": 14,
   "id": "2c100a36-69ca-4031-8a99-36897ef343f9",
   "metadata": {},
   "outputs": [],
   "source": [
    "question = \"横浜市、町田市、相模原市、大磯町、これらの共通点は？\""
   ]
  },
  {
   "cell_type": "code",
   "execution_count": 15,
   "id": "54d68c5e-558e-4e50-b782-5654804a6601",
   "metadata": {},
   "outputs": [
    {
     "name": "stdout",
     "output_type": "stream",
     "text": [
      "{\"id\": \"chatcmpl-7gh2DkIkoCON4hM88xb79UU15RRv2\", \"object\": \"chat.completion\", \"created\": 1690409557, \"model\": \"gpt-3.5-turbo-0613\", \"choices\": [{\"index\": 0, \"message\": {\"role\": \"assistant\", \"content\": null, \"function_call\": {\"name\": \"get_belonging_prefecture\", \"arguments\": \"{\\n  \\\"cities\\\": \\\"\\u6a2a\\u6d5c\\u5e02,\\u753a\\u7530\\u5e02,\\u76f8\\u6a21\\u539f\\u5e02,\\u5927\\u78ef\\u753a\\\"\\n}\"}}, \"finish_reason\": \"function_call\"}], \"usage\": {\"prompt_tokens\": 186, \"completion_tokens\": 42, \"total_tokens\": 228}}\n",
      "{\n",
      "  \"id\": \"chatcmpl-7gh2DkIkoCON4hM88xb79UU15RRv2\",\n",
      "  \"object\": \"chat.completion\",\n",
      "  \"created\": 1690409557,\n",
      "  \"model\": \"gpt-3.5-turbo-0613\",\n",
      "  \"choices\": [\n",
      "    {\n",
      "      \"index\": 0,\n",
      "      \"message\": {\n",
      "        \"role\": \"assistant\",\n",
      "        \"content\": null,\n",
      "        \"function_call\": {\n",
      "          \"name\": \"get_belonging_prefecture\",\n",
      "          \"arguments\": \"{\\n  \\\"cities\\\": \\\"\\u6a2a\\u6d5c\\u5e02,\\u753a\\u7530\\u5e02,\\u76f8\\u6a21\\u539f\\u5e02,\\u5927\\u78ef\\u753a\\\"\\n}\"\n",
      "        }\n",
      "      },\n",
      "      \"finish_reason\": \"function_call\"\n",
      "    }\n",
      "  ],\n",
      "  \"usage\": {\n",
      "    \"prompt_tokens\": 186,\n",
      "    \"completion_tokens\": 42,\n",
      "    \"total_tokens\": 228\n",
      "  }\n",
      "}\n",
      "{'cities': '横浜市,町田市,相模原市,大磯町'}\n",
      "横浜市、町田市、相模原市、大磯町の共通点は、すべて神奈川県に属していることです。\n"
     ]
    }
   ],
   "source": [
    "q_Chat(question)"
   ]
  },
  {
   "cell_type": "code",
   "execution_count": null,
   "id": "8debaad6-e72c-4371-9d5c-5f8338ad87d6",
   "metadata": {},
   "outputs": [],
   "source": []
  }
 ],
 "metadata": {
  "kernelspec": {
   "display_name": "Python 3 (ipykernel)",
   "language": "python",
   "name": "python3"
  },
  "language_info": {
   "codemirror_mode": {
    "name": "ipython",
    "version": 3
   },
   "file_extension": ".py",
   "mimetype": "text/x-python",
   "name": "python",
   "nbconvert_exporter": "python",
   "pygments_lexer": "ipython3",
   "version": "3.10.6"
  }
 },
 "nbformat": 4,
 "nbformat_minor": 5
}
