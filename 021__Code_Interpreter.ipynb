{
 "cells": [
  {
   "cell_type": "code",
   "execution_count": 1,
   "id": "b074356e-b92a-47bf-9c9d-ecaf57cc7637",
   "metadata": {},
   "outputs": [
    {
     "name": "stdout",
     "output_type": "stream",
     "text": [
      "Requirement already satisfied: pip in /usr/local/lib/python3.10/dist-packages (23.3.1)\n",
      "\u001b[33mWARNING: Running pip as the 'root' user can result in broken permissions and conflicting behaviour with the system package manager. It is recommended to use a virtual environment instead: https://pip.pypa.io/warnings/venv\u001b[0m\u001b[33m\n",
      "\u001b[0m"
     ]
    }
   ],
   "source": [
    "!python3 -m pip install --upgrade pip"
   ]
  },
  {
   "cell_type": "code",
   "execution_count": 2,
   "id": "5ae6bb99-6e24-4e2b-83a7-45d9ccbb334e",
   "metadata": {},
   "outputs": [
    {
     "name": "stdout",
     "output_type": "stream",
     "text": [
      "Requirement already satisfied: openai==1.2.4 in /usr/local/lib/python3.10/dist-packages (1.2.4)\n",
      "Requirement already satisfied: anyio<4,>=3.5.0 in /usr/local/lib/python3.10/dist-packages (from openai==1.2.4) (3.7.1)\n",
      "Requirement already satisfied: distro<2,>=1.7.0 in /usr/lib/python3/dist-packages (from openai==1.2.4) (1.7.0)\n",
      "Requirement already satisfied: httpx<1,>=0.23.0 in /usr/local/lib/python3.10/dist-packages (from openai==1.2.4) (0.25.1)\n",
      "Requirement already satisfied: pydantic<3,>=1.9.0 in /usr/local/lib/python3.10/dist-packages (from openai==1.2.4) (1.10.13)\n",
      "Requirement already satisfied: tqdm>4 in /usr/local/lib/python3.10/dist-packages (from openai==1.2.4) (4.66.1)\n",
      "Requirement already satisfied: typing-extensions<5,>=4.5 in /usr/local/lib/python3.10/dist-packages (from openai==1.2.4) (4.8.0)\n",
      "Requirement already satisfied: idna>=2.8 in /usr/local/lib/python3.10/dist-packages (from anyio<4,>=3.5.0->openai==1.2.4) (3.4)\n",
      "Requirement already satisfied: sniffio>=1.1 in /usr/local/lib/python3.10/dist-packages (from anyio<4,>=3.5.0->openai==1.2.4) (1.3.0)\n",
      "Requirement already satisfied: exceptiongroup in /usr/local/lib/python3.10/dist-packages (from anyio<4,>=3.5.0->openai==1.2.4) (1.1.3)\n",
      "Requirement already satisfied: certifi in /usr/local/lib/python3.10/dist-packages (from httpx<1,>=0.23.0->openai==1.2.4) (2022.12.7)\n",
      "Requirement already satisfied: httpcore in /usr/local/lib/python3.10/dist-packages (from httpx<1,>=0.23.0->openai==1.2.4) (1.0.2)\n",
      "Requirement already satisfied: h11<0.15,>=0.13 in /usr/local/lib/python3.10/dist-packages (from httpcore->httpx<1,>=0.23.0->openai==1.2.4) (0.14.0)\n",
      "\u001b[33mWARNING: Running pip as the 'root' user can result in broken permissions and conflicting behaviour with the system package manager. It is recommended to use a virtual environment instead: https://pip.pypa.io/warnings/venv\u001b[0m\u001b[33m\n",
      "\u001b[0m"
     ]
    }
   ],
   "source": [
    "# !pip install openai==0.27.8\n",
    "!pip install openai==1.2.4"
   ]
  },
  {
   "cell_type": "code",
   "execution_count": 3,
   "id": "26a8b4c4-320a-4f69-9eda-2587fbbdf459",
   "metadata": {},
   "outputs": [
    {
     "name": "stdout",
     "output_type": "stream",
     "text": [
      "Requirement already satisfied: python-dotenv in /usr/local/lib/python3.10/dist-packages (1.0.0)\n",
      "Requirement already satisfied: tiktoken in /usr/local/lib/python3.10/dist-packages (0.5.1)\n",
      "Requirement already satisfied: regex>=2022.1.18 in /usr/local/lib/python3.10/dist-packages (from tiktoken) (2023.10.3)\n",
      "Requirement already satisfied: requests>=2.26.0 in /usr/local/lib/python3.10/dist-packages (from tiktoken) (2.31.0)\n",
      "Requirement already satisfied: charset-normalizer<4,>=2 in /usr/local/lib/python3.10/dist-packages (from requests>=2.26.0->tiktoken) (2.1.1)\n",
      "Requirement already satisfied: idna<4,>=2.5 in /usr/local/lib/python3.10/dist-packages (from requests>=2.26.0->tiktoken) (3.4)\n",
      "Requirement already satisfied: urllib3<3,>=1.21.1 in /usr/local/lib/python3.10/dist-packages (from requests>=2.26.0->tiktoken) (1.26.13)\n",
      "Requirement already satisfied: certifi>=2017.4.17 in /usr/local/lib/python3.10/dist-packages (from requests>=2.26.0->tiktoken) (2022.12.7)\n",
      "\u001b[33mWARNING: Running pip as the 'root' user can result in broken permissions and conflicting behaviour with the system package manager. It is recommended to use a virtual environment instead: https://pip.pypa.io/warnings/venv\u001b[0m\u001b[33m\n",
      "\u001b[0m"
     ]
    }
   ],
   "source": [
    "!pip install python-dotenv tiktoken"
   ]
  },
  {
   "cell_type": "code",
   "execution_count": 4,
   "id": "503a91c9-8c53-4073-b7c6-c829a922c439",
   "metadata": {},
   "outputs": [
    {
     "name": "stdout",
     "output_type": "stream",
     "text": [
      "Requirement already satisfied: pdfplumber in /usr/local/lib/python3.10/dist-packages (0.10.3)\n",
      "Requirement already satisfied: pdfminer.six==20221105 in /usr/local/lib/python3.10/dist-packages (from pdfplumber) (20221105)\n",
      "Requirement already satisfied: Pillow>=9.1 in /usr/local/lib/python3.10/dist-packages (from pdfplumber) (9.3.0)\n",
      "Requirement already satisfied: pypdfium2>=4.18.0 in /usr/local/lib/python3.10/dist-packages (from pdfplumber) (4.24.0)\n",
      "Requirement already satisfied: charset-normalizer>=2.0.0 in /usr/local/lib/python3.10/dist-packages (from pdfminer.six==20221105->pdfplumber) (2.1.1)\n",
      "Requirement already satisfied: cryptography>=36.0.0 in /usr/local/lib/python3.10/dist-packages (from pdfminer.six==20221105->pdfplumber) (41.0.5)\n",
      "Requirement already satisfied: cffi>=1.12 in /usr/local/lib/python3.10/dist-packages (from cryptography>=36.0.0->pdfminer.six==20221105->pdfplumber) (1.16.0)\n",
      "Requirement already satisfied: pycparser in /usr/local/lib/python3.10/dist-packages (from cffi>=1.12->cryptography>=36.0.0->pdfminer.six==20221105->pdfplumber) (2.21)\n",
      "\u001b[33mWARNING: Running pip as the 'root' user can result in broken permissions and conflicting behaviour with the system package manager. It is recommended to use a virtual environment instead: https://pip.pypa.io/warnings/venv\u001b[0m\u001b[33m\n",
      "\u001b[0m"
     ]
    }
   ],
   "source": [
    "!pip install pdfplumber"
   ]
  },
  {
   "cell_type": "code",
   "execution_count": 5,
   "id": "398370af-aa58-4bbb-bcfc-070bcc9e5898",
   "metadata": {},
   "outputs": [],
   "source": [
    "import openai\n",
    "import pdfplumber\n",
    "from openai import OpenAI\n",
    "import tiktoken\n",
    "from dotenv import load_dotenv\n",
    "import os\n",
    "load_dotenv()\n",
    "openai.api_key = os.getenv(\"OPENAI_API_KEY\")"
   ]
  },
  {
   "cell_type": "code",
   "execution_count": 6,
   "id": "93b9e92f-310f-4d70-ad1c-a73f894a6353",
   "metadata": {},
   "outputs": [],
   "source": [
    "client = OpenAI()"
   ]
  },
  {
   "cell_type": "code",
   "execution_count": 7,
   "id": "3437e73b-71e1-43c9-8f1c-5d30f3ca9a76",
   "metadata": {},
   "outputs": [],
   "source": [
    "# アシスタントの作成\n",
    "assistant = client.beta.assistants.create(\n",
    "    instructions=\"あなたはプログラムコードを書くシステムエンジニアです。質問を実現するpythonコードを書いて実行します。\",\n",
    "    model=\"gpt-4-1106-preview\",\n",
    "    tools=[{\"type\": \"code_interpreter\"}],\n",
    ")"
   ]
  },
  {
   "cell_type": "code",
   "execution_count": 8,
   "id": "1daaba6b-5003-46d5-b242-0432e9dd1946",
   "metadata": {},
   "outputs": [],
   "source": [
    "# 会話するためスレッドの準備\n",
    "thread = client.beta.threads.create()"
   ]
  },
  {
   "cell_type": "code",
   "execution_count": 9,
   "id": "db81dcbf-7bfa-4fb2-9e1c-af34bf4d482b",
   "metadata": {},
   "outputs": [],
   "source": [
    "# ユーザーメッセージの追加\n",
    "message = client.beta.threads.messages.create(\n",
    "    thread_id=thread.id,\n",
    "    role=\"user\",\n",
    "    content=\"日本プロ野球の選手データを取得し、選手の平均年齢を出力するコードを作成したいです。手伝ってください。\"\n",
    ")"
   ]
  },
  {
   "cell_type": "code",
   "execution_count": 10,
   "id": "c5cc0002-efe3-4a43-90dd-e7bed09057cd",
   "metadata": {},
   "outputs": [
    {
     "name": "stdout",
     "output_type": "stream",
     "text": [
      "user : 日本プロ野球の選手データを取得し、選手の平均年齢を出力するコードを作成したいです。手伝ってください。\n"
     ]
    }
   ],
   "source": [
    "# スレッドのメッセージリストの確認\n",
    "messages = client.beta.threads.messages.list(\n",
    "    thread_id=thread.id,\n",
    "    order=\"asc\"\n",
    ")\n",
    "\n",
    "for message in messages:\n",
    "    print(message.role, \":\", message.content[0].text.value)"
   ]
  },
  {
   "cell_type": "code",
   "execution_count": 11,
   "id": "2ff86977-4caf-4c85-80a3-acdfbf495ac0",
   "metadata": {},
   "outputs": [],
   "source": [
    "# アシスタントにリクエスト\n",
    "run = client.beta.threads.runs.create(\n",
    "    thread_id=thread.id,\n",
    "    assistant_id=assistant.id,\n",
    ")"
   ]
  },
  {
   "cell_type": "code",
   "execution_count": 12,
   "id": "a6a457ef-5a6a-4eb2-907a-5b200db10c8e",
   "metadata": {},
   "outputs": [
    {
     "name": "stdout",
     "output_type": "stream",
     "text": [
      "completed\n"
     ]
    }
   ],
   "source": [
    "# 実行状況の確認\n",
    "run = client.beta.threads.runs.retrieve(\n",
    "    thread_id=thread.id,\n",
    "    run_id=run.id\n",
    ")\n",
    "print(run.status)"
   ]
  },
  {
   "cell_type": "code",
   "execution_count": 13,
   "id": "c5a5dc0c-4a56-4eb3-95a7-74f2c854b68a",
   "metadata": {},
   "outputs": [
    {
     "name": "stdout",
     "output_type": "stream",
     "text": [
      "user : 日本プロ野球の選手データを取得し、選手の平均年齢を出力するコードを作成したいです。手伝ってください。\n",
      "assistant : インターネットアクセスが無効になっているため、直接日本プロ野球の選手データを取得することはできません。しかし、仮のデータセットを作成して、その上で選手の平均年齢を計算するコードを提供することは可能です。もし実際のデータを持っているなら、それをアップロードしていただければ、そのデータを使って計算することもできます。\n",
      "\n",
      "まずは、仮の選手データの例を作成してその上で平均年齢を計算するサンプルコードを書いていきます。これはあくまでも例ですので、実際のデータに対しては適切なデータ処理が必要になります。ここでは、各選手について名前と生年月日が記録されたシンプルなデータを想定します。\n"
     ]
    }
   ],
   "source": [
    "# スレッドのメッセージリストの確認\n",
    "messages = client.beta.threads.messages.list(\n",
    "    thread_id=thread.id,\n",
    "    order=\"asc\"\n",
    ")\n",
    "for message in messages:\n",
    "    print(message.role, \":\", message.content[0].text.value)"
   ]
  },
  {
   "cell_type": "code",
   "execution_count": 14,
   "id": "47ced276-6933-4efb-9997-821cd290723d",
   "metadata": {},
   "outputs": [
    {
     "data": {
      "text/plain": [
       "SyncCursorPage[ThreadMessage](data=[ThreadMessage(id='msg_hmgVN8DputUCeD3ExUAICy8t', assistant_id=None, content=[MessageContentText(text=Text(annotations=[], value='日本プロ野球の選手データを取得し、選手の平均年齢を出力するコードを作成したいです。手伝ってください。'), type='text')], created_at=1700315911, file_ids=[], metadata={}, object='thread.message', role='user', run_id=None, thread_id='thread_F5cAI7h3htu1p7wC4Dhd0flb'), ThreadMessage(id='msg_glR2l7nee7UvKARFNgJlPTeY', assistant_id='asst_CWbof6eUqGW97YdaZm8Z2nj9', content=[MessageContentText(text=Text(annotations=[], value='インターネットアクセスが無効になっているため、直接日本プロ野球の選手データを取得することはできません。しかし、仮のデータセットを作成して、その上で選手の平均年齢を計算するコードを提供することは可能です。もし実際のデータを持っているなら、それをアップロードしていただければ、そのデータを使って計算することもできます。\\n\\nまずは、仮の選手データの例を作成してその上で平均年齢を計算するサンプルコードを書いていきます。これはあくまでも例ですので、実際のデータに対しては適切なデータ処理が必要になります。ここでは、各選手について名前と生年月日が記録されたシンプルなデータを想定します。'), type='text')], created_at=1700315931, file_ids=[], metadata={}, object='thread.message', role='assistant', run_id='run_CkAuHkFjOyWiaevimC52rYIg', thread_id='thread_F5cAI7h3htu1p7wC4Dhd0flb')], object='list', first_id='msg_hmgVN8DputUCeD3ExUAICy8t', last_id='msg_glR2l7nee7UvKARFNgJlPTeY', has_more=False)"
      ]
     },
     "execution_count": 14,
     "metadata": {},
     "output_type": "execute_result"
    }
   ],
   "source": [
    "messages"
   ]
  },
  {
   "cell_type": "code",
   "execution_count": 15,
   "id": "cf25839c-336e-4368-85ab-90be107405d5",
   "metadata": {},
   "outputs": [
    {
     "name": "stdout",
     "output_type": "stream",
     "text": [
      "SyncCursorPage[RunStep](data=[RunStep(id='step_NpFyNBlJ6xpJyX0wHPD7t9vH', assistant_id='asst_CWbof6eUqGW97YdaZm8Z2nj9', cancelled_at=None, completed_at=1700315937, created_at=1700315931, expired_at=None, failed_at=None, last_error=None, metadata=None, object='thread.run.step', run_id='run_CkAuHkFjOyWiaevimC52rYIg', status='completed', step_details=MessageCreationStepDetails(message_creation=MessageCreation(message_id='msg_glR2l7nee7UvKARFNgJlPTeY'), type='message_creation'), thread_id='thread_F5cAI7h3htu1p7wC4Dhd0flb', type='message_creation', expires_at=None)], object='list', first_id='step_NpFyNBlJ6xpJyX0wHPD7t9vH', last_id='step_NpFyNBlJ6xpJyX0wHPD7t9vH', has_more=False)\n"
     ]
    }
   ],
   "source": [
    "# Run Stepの確認\n",
    "run_steps = client.beta.threads.runs.steps.list(\n",
    "    thread_id=thread.id,\n",
    "    run_id=run.id\n",
    ")\n",
    "print(run_steps)"
   ]
  },
  {
   "cell_type": "code",
   "execution_count": 17,
   "id": "0118e648-271c-4f9c-a751-4f964518986e",
   "metadata": {},
   "outputs": [
    {
     "name": "stdout",
     "output_type": "stream",
     "text": [
      "user : 日本プロ野球の選手データを取得し、選手の平均年齢を出力するコードを作成したいです。手伝ってください。\n",
      "assistant : インターネットアクセスが無効になっているため、直接日本プロ野球の選手データを取得することはできません。しかし、仮のデータセットを作成して、その上で選手の平均年齢を計算するコードを提供することは可能です。もし実際のデータを持っているなら、それをアップロードしていただければ、そのデータを使って計算することもできます。\n",
      "\n",
      "まずは、仮の選手データの例を作成してその上で平均年齢を計算するサンプルコードを書いていきます。これはあくまでも例ですので、実際のデータに対しては適切なデータ処理が必要になります。ここでは、各選手について名前と生年月日が記録されたシンプルなデータを想定します。\n",
      "user : では、仮のデータセットを作成してそのうえで選手の平均年齢を計算するサンプルコードを作成してください\n",
      "in_progress\n",
      "user : 日本プロ野球の選手データを取得し、選手の平均年齢を出力するコードを作成したいです。手伝ってください。\n",
      "assistant : インターネットアクセスが無効になっているため、直接日本プロ野球の選手データを取得することはできません。しかし、仮のデータセットを作成して、その上で選手の平均年齢を計算するコードを提供することは可能です。もし実際のデータを持っているなら、それをアップロードしていただければ、そのデータを使って計算することもできます。\n",
      "\n",
      "まずは、仮の選手データの例を作成してその上で平均年齢を計算するサンプルコードを書いていきます。これはあくまでも例ですので、実際のデータに対しては適切なデータ処理が必要になります。ここでは、各選手について名前と生年月日が記録されたシンプルなデータを想定します。\n",
      "user : では、仮のデータセットを作成してそのうえで選手の平均年齢を計算するサンプルコードを作成してください\n",
      "assistant : \n"
     ]
    }
   ],
   "source": [
    "# ユーザーメッセージの追加\n",
    "message = client.beta.threads.messages.create(\n",
    "    thread_id=thread.id,\n",
    "    role=\"user\",\n",
    "    content=\"では、仮のデータセットを作成してそのうえで選手の平均年齢を計算するサンプルコードを作成してください\"\n",
    ")\n",
    "\n",
    "# スレッドのメッセージリストの確認\n",
    "messages = client.beta.threads.messages.list(\n",
    "    thread_id=thread.id,\n",
    "    order=\"asc\"\n",
    ")\n",
    "\n",
    "for message in messages:\n",
    "    print(message.role, \":\", message.content[0].text.value)\n",
    "\n",
    "# アシスタントにリクエスト\n",
    "run = client.beta.threads.runs.create(\n",
    "    thread_id=thread.id,\n",
    "    assistant_id=assistant.id,\n",
    ")\n",
    "\n",
    "# 実行状況の確認\n",
    "run = client.beta.threads.runs.retrieve(\n",
    "    thread_id=thread.id,\n",
    "    run_id=run.id\n",
    ")\n",
    "print(run.status)\n",
    "\n",
    "# スレッドのメッセージリストの確認\n",
    "messages = client.beta.threads.messages.list(\n",
    "    thread_id=thread.id,\n",
    "    order=\"asc\"\n",
    ")\n",
    "for message in messages:\n",
    "    print(message.role, \":\", message.content[0].text.value)"
   ]
  },
  {
   "cell_type": "code",
   "execution_count": 18,
   "id": "bb08ef1b-2c46-4d73-8559-911d79af8d12",
   "metadata": {},
   "outputs": [
    {
     "data": {
      "text/plain": [
       "SyncCursorPage[ThreadMessage](data=[ThreadMessage(id='msg_hmgVN8DputUCeD3ExUAICy8t', assistant_id=None, content=[MessageContentText(text=Text(annotations=[], value='日本プロ野球の選手データを取得し、選手の平均年齢を出力するコードを作成したいです。手伝ってください。'), type='text')], created_at=1700315911, file_ids=[], metadata={}, object='thread.message', role='user', run_id=None, thread_id='thread_F5cAI7h3htu1p7wC4Dhd0flb'), ThreadMessage(id='msg_glR2l7nee7UvKARFNgJlPTeY', assistant_id='asst_CWbof6eUqGW97YdaZm8Z2nj9', content=[MessageContentText(text=Text(annotations=[], value='インターネットアクセスが無効になっているため、直接日本プロ野球の選手データを取得することはできません。しかし、仮のデータセットを作成して、その上で選手の平均年齢を計算するコードを提供することは可能です。もし実際のデータを持っているなら、それをアップロードしていただければ、そのデータを使って計算することもできます。\\n\\nまずは、仮の選手データの例を作成してその上で平均年齢を計算するサンプルコードを書いていきます。これはあくまでも例ですので、実際のデータに対しては適切なデータ処理が必要になります。ここでは、各選手について名前と生年月日が記録されたシンプルなデータを想定します。'), type='text')], created_at=1700315931, file_ids=[], metadata={}, object='thread.message', role='assistant', run_id='run_CkAuHkFjOyWiaevimC52rYIg', thread_id='thread_F5cAI7h3htu1p7wC4Dhd0flb'), ThreadMessage(id='msg_1t7uaAI6jDEXYK3KnvofGCBE', assistant_id=None, content=[MessageContentText(text=Text(annotations=[], value='では、仮のデータセットを作成してそのうえで選手の平均年齢を計算するサンプルコードを作成してください'), type='text')], created_at=1700316140, file_ids=[], metadata={}, object='thread.message', role='user', run_id=None, thread_id='thread_F5cAI7h3htu1p7wC4Dhd0flb')], object='list', first_id='msg_hmgVN8DputUCeD3ExUAICy8t', last_id='msg_1t7uaAI6jDEXYK3KnvofGCBE', has_more=False)"
      ]
     },
     "execution_count": 18,
     "metadata": {},
     "output_type": "execute_result"
    }
   ],
   "source": [
    "messages"
   ]
  },
  {
   "cell_type": "code",
   "execution_count": null,
   "id": "a7124860-597a-463a-bd7c-e9969114e099",
   "metadata": {},
   "outputs": [],
   "source": []
  }
 ],
 "metadata": {
  "kernelspec": {
   "display_name": "Python 3 (ipykernel)",
   "language": "python",
   "name": "python3"
  },
  "language_info": {
   "codemirror_mode": {
    "name": "ipython",
    "version": 3
   },
   "file_extension": ".py",
   "mimetype": "text/x-python",
   "name": "python",
   "nbconvert_exporter": "python",
   "pygments_lexer": "ipython3",
   "version": "3.10.12"
  }
 },
 "nbformat": 4,
 "nbformat_minor": 5
}
